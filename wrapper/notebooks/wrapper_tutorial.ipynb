{
 "cells": [
  {
   "cell_type": "markdown",
   "metadata": {},
   "source": [
    "# $\\mathtt{Relax\\_Æ}$ wrapper tutorial"
   ]
  },
  {
   "cell_type": "code",
   "execution_count": 2,
   "metadata": {},
   "outputs": [],
   "source": [
    "# Common python packages\n",
    "import os\n",
    "from scipy import integrate\n",
    "import matplotlib.pyplot as plt\n",
    "cc = plt.rcParams['axes.prop_cycle'].by_key()['color']\n",
    "%matplotlib inline\n",
    "\n",
    "# Check that pwd is relaxation directory and code is compiled\n",
    "if os.path.exists(os.getcwd()+'/wrapper_tutorial.ipynb'):\n",
    "    os.chdir('../..') # May need to be set by hand if nonconventional setup\n",
    "if not os.path.exists(os.getcwd()+'/bin/relaxed_ae'):\n",
    "    print('ERROR: relaxation code not found!\\n'\n",
    "          '       Either not compiled, or not in relaxation code directory')\n",
    "    assert(False)\n",
    "\n",
    "# Wrapper modules\n",
    "from wrapper.relax_wrapper import wind_simulation as wind_sim\n",
    "from wrapper.wrapper_utils import constants as const\n",
    "from wrapper.wrapper_utils.system import system\n",
    "from wrapper.wrapper_utils.physics import physics\n",
    "from wrapper.wrapper_utils.plots import *\n",
    "\n",
    "# Check if McAstro loaded\n",
    "McAstro_loaded = False\n",
    "if os.path.exists('McAstro/planets/insolation/glq_rates.py'):\n",
    "    McAstro_loaded = True\n",
    "if McAstro_loaded:\n",
    "    from wrapper.wrapper_utils.spectrum import spectrum\n",
    "else:\n",
    "    print('WARNING: McAstro not found. Running limited capabilities.')"
   ]
  },
  {
   "cell_type": "code",
   "execution_count": null,
   "metadata": {},
   "outputs": [],
   "source": []
  },
  {
   "cell_type": "markdown",
   "metadata": {},
   "source": [
    "## Create systems\n",
    "\n",
    "You create systems by suppling a planetary mass ($M_\\mathrm{p}$), planetary radius ($R_\\mathrm{p}$), stellar mass ($M_\\star$), semimajor-axis ($a$), and the total integrated ionizing flux ($F_\\mathrm{uv}$).\n",
    "\n",
    "The supplied planetary radius is assumed to be the often widely cited optical transit radius from optical observations (as the uv transit radius should be near impossible to measure observationally). Therefore, one needs to consider how to extrapolate the radius at which the ionizing energy is deposited. More on this later when we get to the `atmosphere` object.\n",
    "\n",
    "Here are examples of several well known systems we create as `system` objects."
   ]
  },
  {
   "cell_type": "code",
   "execution_count": 3,
   "metadata": {},
   "outputs": [],
   "source": [
    "HD189733b = system(1.162*const.Mjupiter, 1.138*const.Rjupiter,\n",
    "                   0.846*const.Msun, 0.031*const.au, 2000,\n",
    "                   name='HD 189733 b') #Rstar = 0.8*Rsun\n",
    "\n",
    "HD209458b = system(0.71*const.Mjupiter, 1.35*const.Rjupiter,\n",
    "                   1.26*const.Msun, 0.045*const.au, 2000, \n",
    "                   name='HD 209458 b')\n",
    "\n",
    "Kelt9b = system(5.1e30, 1.35e10, 5e33, 5.18e11, 1.82e4,\n",
    "                name='Kelt-9 b') #Rstar = 2.4*Rsun\n",
    "\n",
    "GJ436b = system(1.28e29, 2.75e9, 8.16e32, 4.19e11, 765,\n",
    "                name='GJ 436 b')\n",
    "\n",
    "LTT9779b = system(29.32*const.Mearth, 4.59*const.Rearth,\n",
    "                  const.Msun, 0.016969*const.au, 450*(0.05/0.016969)**2,\n",
    "                  name='LTT 9779 b')\n",
    "\n",
    "TOI_1231 = system(15.1*const.Mearth, 3.95*const.Rearth,\n",
    "                  0.461*const.Msun, 0.1266*const.au, 205,\n",
    "                  name='TOI 1231')\n",
    "\n",
    "GJ3470b = system(0.043*const.Mjupiter, 0.35*const.Rjupiter,\n",
    "                 0.51*const.Msun, 0.031*const.au, 450*(0.05/0.031)**2,\n",
    "                 name='GJ 3470 b')\n",
    "\n",
    "GJ1214b = system(6.55*const.Mearth, 2.678*const.Rearth,\n",
    "                 0.157*const.Msun, 0.0143*const.au, 450*(0.05/0.0143)**2,\n",
    "                 name='GJ 1214 b')\n",
    "\n",
    "WASP_12_b = system(1.465*const.Mjupiter, 1.937*const.Rjupiter,\n",
    "                   1.434*const.Msun, 0.02320*const.au, 51082,\n",
    "                   name='WASP-12 b')\n",
    "\n",
    "McCann19 = system(5e29, 1.5e10, const.Msun, 1e12, 515,\n",
    "                  name='McCann 2019')\n",
    "\n",
    "MurrayClay09_lo = system(1.33e30, 1e10, const.Msun, 0.05*const.au, 450,\n",
    "                         name='Murray-Clay 2009 (lo flux)')\n",
    "\n",
    "MurrayClay09_hi = system(1.33e30, 1e10, const.Msun, 0.05*const.au, 5e5,\n",
    "                      name='Murray-Clay 2009 (hi flux)')"
   ]
  },
  {
   "cell_type": "markdown",
   "metadata": {},
   "source": [
    "## Reviewing systems\n",
    "\n",
    "At anytime you can print the system parameters to remind yourself what the parameters have been set to with `system.print_system()`. You can provide the keyword argument `norm` to change which normalized units are used for the display. Currently, the only options are 'Earth' and 'Jupiter' (of which Jupiter is the default)."
   ]
  },
  {
   "cell_type": "code",
   "execution_count": 4,
   "metadata": {},
   "outputs": [
    {
     "name": "stdout",
     "output_type": "stream",
     "text": [
      "HD 209458 b:\n",
      "  System parameters (cgs)               # Normalized units\n",
      "    Mp:        1.347952e+30 g           #     0.71 MJ\n",
      "    Rp:        9.651420e+09 cm          #     1.35 RJ\n",
      "    Mstar:     2.505404e+33 g           #     1.26 Msun\n",
      "    semimajor: 6.732000e+11 cm          #     0.04 au\n",
      "    Fuv:       2.000000e+03 erg/cm^2/s  # 4.29e+02 FuvEarth\n",
      "\n",
      "GJ 436 b:\n",
      "  System parameters (cgs)               # Normalized units\n",
      "    Mp:        1.280000e+29 g           #    21.43 ME\n",
      "    Rp:        2.750000e+09 cm          #     4.31 RE\n",
      "    Mstar:     8.160000e+32 g           #     0.41 Msun\n",
      "    semimajor: 4.190000e+11 cm          #     0.03 au\n",
      "    Fuv:       7.650000e+02 erg/cm^2/s  # 1.64e+02 FuvEarth\n",
      "\n",
      "GJ 3470 b:\n",
      "  System parameters (cgs)               # Normalized units\n",
      "    Mp:        8.163651e+28 g           #    13.67 ME\n",
      "    Rp:        2.502220e+09 cm          #     3.92 RE\n",
      "    Mstar:     1.014092e+33 g           #     0.51 Msun\n",
      "    semimajor: 4.637600e+11 cm          #     0.03 au\n",
      "    Fuv:       1.170656e+03 erg/cm^2/s  # 2.51e+02 FuvEarth\n",
      "\n"
     ]
    }
   ],
   "source": [
    "HD209458b.print_system()\n",
    "GJ436b.print_system(norm='Earth')\n",
    "GJ3470b.print_system(norm='Earth')"
   ]
  },
  {
   "cell_type": "markdown",
   "metadata": {},
   "source": [
    "## Create the simulation object\n",
    "\n",
    "The class `wind_simulation`, which we imported as `wind_sim`, is the main object that the end user will use to control the entire relaxation environment. By calling the class it will automatically be initialized to load the solution prescribed by `inputs/guess.inp`. If you wish to load a different solution you can provide the keyword argument `csv_file`, e.g., `csv_file=saves/windsoln.csv`, when initializing. You may also provide the keyword argument `name` for plotting purposes, and will set the `wind_simulations`'s `system` object's name attribute. \n",
    "\n",
    "Here we initialize a `wind_simulation` object and assign it to `sim`. A `wind_simulation` object, here assigned to `sim`, has it's own `wind_soluton`, `system`, `atmosphere` and `physics` objects. The `wind_solution` object is access via `sim.windsoln`, the `system` via `sim.system`, the atmosphere as `sim.atmosphere`, and the physics by `sim.physics`. We will discuss below what the other objects are, but for now we will just print the `system` parameters by doing `sim.system.print_system()`."
   ]
  },
  {
   "cell_type": "code",
   "execution_count": 2,
   "metadata": {},
   "outputs": [
    {
     "name": "stdout",
     "output_type": "stream",
     "text": [
      "Init. Planet:\n",
      "  System parameters (cgs)               # Normalized units\n",
      "    Mp:        1.330000e+30 g           #     0.70 MJ\n",
      "    Rp:        1.000000e+10 cm          #     1.40 RJ\n",
      "    Mstar:     1.988416e+33 g           #     1.00 Msun\n",
      "    semimajor: 7.480000e+11 cm          #     0.05 au\n",
      "    Fuv:       4.500000e+02 erg/cm^2/s  # 9.64e+01 FuvEarth\n",
      "\n"
     ]
    }
   ],
   "source": [
    "sim = wind_sim()\n",
    "sim.system.print_system(norm='Jupiter')"
   ]
  },
  {
   "cell_type": "markdown",
   "metadata": {},
   "source": [
    "## Loading solutions\n",
    "\n",
    "With a `wind_simulation` object a user can also load a previous solution with the `load_planet` method. Note that this solution could have been similarly loaded during the `wind_simulation` object initialization by providing the `csv_file` keyword argument, but it also provides the user with the ability to load a solution even after the object has been initialized.\n",
    "\n",
    "**WARNING:** Loading a solution will overwrite the files in `inputs/` such that they match those that resulted in the solution we are loading. This shouldn't really be an issue for most use cases, but you have been forewarned. This should rather be seen as refreshing the relaxation environment to a previous state, in case you found yourself somewhere you didn't want to be. Therefore, it is possible to lose any currently altered solutions that have not been saved yet. We will talk about saving later in this tutorial, but for now we load the same `inputs/guess.inp` as a pedagogical example."
   ]
  },
  {
   "cell_type": "code",
   "execution_count": null,
   "metadata": {},
   "outputs": [],
   "source": [
    "sim.load_planet('inputs/guess.inp')"
   ]
  },
  {
   "cell_type": "markdown",
   "metadata": {},
   "source": [
    "## Reviewing Atmospheres\n",
    "\n",
    "Now recall the issue of translating the optical radius to the radius where the ionizing energy is deposited. The relaxation code attacks the problem from the top-down by setting a density at the inner boundary such that all the ionizing photons are absorbed and do not pass thru the inner boundary. Therefore, one needs to model from the bottom-up where this density resides in the planet's upper stratosphere. \n",
    "\n",
    "In the default configuration, we taken an optical opacity to calculate the density at the observed optical transit radius, taking into account the transit's geometry. We also provide an option to assign the density/pressure at the optical radius if you feel that is better constrained than the opacity. By assuming an isothermal atmosphere, we then have a determined toy model of the planet's upper stratosphere, from which we can map the density from the relaxation simulation to the radius given by our toy model.\n",
    "\n",
    "This is all contained in what we call an `atmosphere` object, which was previously mentioned being one of the objects in a `wind_simulation` object (e.g., `sim.atmosphere`). We can print what the parameters of the atmosphere are with `atmosphere.print_atmosphere()`."
   ]
  },
  {
   "cell_type": "code",
   "execution_count": null,
   "metadata": {},
   "outputs": [],
   "source": [
    "sim.atmosphere.print_atmosphere()"
   ]
  },
  {
   "cell_type": "markdown",
   "metadata": {},
   "source": [
    "Currently, the upper atmosphere is modeled by taking the parameters at the inner boundary of the relaxation result, i.e., the isothermal temperature is `T_rmin`, and the mean molecular weight equals the mean ion weight (assumes completely neutral and that hydrogen is actually diatomic). Thus, the only free parameter for the atmosphere then is the optical opacity, which we set to $\\kappa_{\\mathrm{opt.}} = 10^{-2}$, and can be modify with `sim.atmosphere.assign('kappa_opt', value)`. If altering the opacity then the solution will most likely need to be converged again as `Rmin`, where the `rho_rmin` maps to, will change. If one prefers they can also use a pressure at the observed radius with `sim.atmosphere.assign('P_obs', value)`.\n",
    "\n",
    "To update the solution to a newly selected opacity (or observed pressure) simply converge the boundary conditions with `sim.converge_all_bcs(expedite=True)`. Here we give the keyword argument `expedite=True` to quickly converge the simulation without doing extra integration outside the relaxation region. We will cover this more later.\n",
    "\n",
    "Here we show what $\\kappa_{\\mathrm{opt.}}$, $R_{\\mathrm{min}}$, $\\dot{M}_{\\mathrm{3D}}$ are before and after altering our choices. We see that the results have some dependency on our choice, which mainly comes down to the radius at which the wind is being launched. Overall, the difference is not dramatic but helps one understand to what extent the modeling below the wind base alters the results."
   ]
  },
  {
   "cell_type": "code",
   "execution_count": null,
   "metadata": {},
   "outputs": [],
   "source": [
    "sim.converge_all_bcs(expedite=True)\n",
    "print(f'\\rWith kappa_opt={sim.atmosphere.kappa_opt:g}, '\n",
    "      f'Rmin={sim.windsoln.Rmin:g}, Mdot={sim.windsoln.Mdot:.3e}'\n",
    "      '\\n')\n",
    "\n",
    "sim.atmosphere.assign('kappa_opt', 1e-3)\n",
    "sim.atmosphere.print_atmosphere()\n",
    "\n",
    "sim.converge_all_bcs(expedite=True)\n",
    "print(f'\\rWith kappa_opt={sim.atmosphere.kappa_opt:g}, '\n",
    "      f'Rmin={sim.windsoln.Rmin:g}, Mdot={sim.windsoln.Mdot:.3e}')"
   ]
  },
  {
   "cell_type": "markdown",
   "metadata": {},
   "source": [
    "## Reviewing the relaxation solution\n",
    "\n",
    "The `wind_simulation` class also contains a `wind_solution` object that has everything to do with the relaxation code's results. The main results are stored in a pandas DataFrame. There is the normalized results which the relaxation code uses directly, and the c.g.s. unit system results. The normalized solution is found under `sim.windsoln.soln_norm`, while the c.g.s unit system results are assigned to `sim.windsoln.soln`."
   ]
  },
  {
   "cell_type": "code",
   "execution_count": null,
   "metadata": {},
   "outputs": [],
   "source": [
    "sim.windsoln.soln_norm"
   ]
  },
  {
   "cell_type": "markdown",
   "metadata": {},
   "source": [
    "The `soln` DataFrame will also have numerous user defined variables calculated in post-processing. These are not used by the relaxation simulation directly, but are useful for analysis. You can also add your own by modifying `wrapper_utils/windsoln.py`'s `add_user_vars()` method. Note that this will only be added if the the `wind_solution` object was called without the `expedite` flag. If you find that the `wind_solution` was loaded expeditiously (has only the variables found in `soln_norm`) then you can reload the solution file in full glory with `sim.load_nonexpedited(file_path)`. Notice this takes a bit longer to perform all the extra calculations and why it is generally avoided until the user request such results. The main culprit being the Coriolis ballistic trajectory calculations.\n",
    "\n",
    "To load the user variables, which performing the Coriolis calculations you can use `sim.load_uservars()`."
   ]
  },
  {
   "cell_type": "code",
   "execution_count": 3,
   "metadata": {},
   "outputs": [
    {
     "data": {
      "text/html": [
       "<div>\n",
       "<style scoped>\n",
       "    .dataframe tbody tr th:only-of-type {\n",
       "        vertical-align: middle;\n",
       "    }\n",
       "\n",
       "    .dataframe tbody tr th {\n",
       "        vertical-align: top;\n",
       "    }\n",
       "\n",
       "    .dataframe thead th {\n",
       "        text-align: right;\n",
       "    }\n",
       "</style>\n",
       "<table border=\"1\" class=\"dataframe\">\n",
       "  <thead>\n",
       "    <tr style=\"text-align: right;\">\n",
       "      <th></th>\n",
       "      <th>r</th>\n",
       "      <th>rho</th>\n",
       "      <th>v</th>\n",
       "      <th>T</th>\n",
       "      <th>Ys</th>\n",
       "      <th>Ncol</th>\n",
       "      <th>q</th>\n",
       "      <th>z</th>\n",
       "      <th>mu</th>\n",
       "      <th>P</th>\n",
       "      <th>...</th>\n",
       "      <th>bern_isen</th>\n",
       "      <th>bern</th>\n",
       "      <th>ad_prof</th>\n",
       "      <th>static_prof</th>\n",
       "      <th>static_rho</th>\n",
       "      <th>static_P</th>\n",
       "      <th>static_T</th>\n",
       "      <th>del_ad</th>\n",
       "      <th>Gamma_2</th>\n",
       "      <th>Gamma_3</th>\n",
       "    </tr>\n",
       "  </thead>\n",
       "  <tbody>\n",
       "    <tr>\n",
       "      <th>0</th>\n",
       "      <td>2.475000e+09</td>\n",
       "      <td>2.219919e-10</td>\n",
       "      <td>5.350346e-01</td>\n",
       "      <td>4360.953653</td>\n",
       "      <td>1.000000</td>\n",
       "      <td>4.068487e+22</td>\n",
       "      <td>-0.069954</td>\n",
       "      <td>8.957373e+09</td>\n",
       "      <td>1.673300e-24</td>\n",
       "      <td>7.987867e+01</td>\n",
       "      <td>...</td>\n",
       "      <td>-1.974806e+14</td>\n",
       "      <td>-1.974806e+14</td>\n",
       "      <td>1.770659</td>\n",
       "      <td>4.360807</td>\n",
       "      <td>2.219807e-10</td>\n",
       "      <td>79.871949</td>\n",
       "      <td>4360.806856</td>\n",
       "      <td>0.400000</td>\n",
       "      <td>1.666667</td>\n",
       "      <td>1.666667</td>\n",
       "    </tr>\n",
       "    <tr>\n",
       "      <th>1</th>\n",
       "      <td>2.475627e+09</td>\n",
       "      <td>2.216699e-10</td>\n",
       "      <td>5.355405e-01</td>\n",
       "      <td>4356.735972</td>\n",
       "      <td>1.000000</td>\n",
       "      <td>4.060181e+22</td>\n",
       "      <td>-0.069884</td>\n",
       "      <td>8.957373e+09</td>\n",
       "      <td>1.673300e-24</td>\n",
       "      <td>7.968567e+01</td>\n",
       "      <td>...</td>\n",
       "      <td>-1.974806e+14</td>\n",
       "      <td>-1.974806e+14</td>\n",
       "      <td>1.770437</td>\n",
       "      <td>4.356589</td>\n",
       "      <td>2.216587e-10</td>\n",
       "      <td>79.678969</td>\n",
       "      <td>4356.589322</td>\n",
       "      <td>0.400000</td>\n",
       "      <td>1.666667</td>\n",
       "      <td>1.666667</td>\n",
       "    </tr>\n",
       "    <tr>\n",
       "      <th>2</th>\n",
       "      <td>2.476253e+09</td>\n",
       "      <td>2.213482e-10</td>\n",
       "      <td>5.360473e-01</td>\n",
       "      <td>4352.520439</td>\n",
       "      <td>1.000000</td>\n",
       "      <td>4.051886e+22</td>\n",
       "      <td>-0.069814</td>\n",
       "      <td>8.957373e+09</td>\n",
       "      <td>1.673300e-24</td>\n",
       "      <td>7.949306e+01</td>\n",
       "      <td>...</td>\n",
       "      <td>-1.974806e+14</td>\n",
       "      <td>-1.974806e+14</td>\n",
       "      <td>1.770214</td>\n",
       "      <td>4.352374</td>\n",
       "      <td>2.213371e-10</td>\n",
       "      <td>79.486368</td>\n",
       "      <td>4352.373936</td>\n",
       "      <td>0.400000</td>\n",
       "      <td>1.666667</td>\n",
       "      <td>1.666667</td>\n",
       "    </tr>\n",
       "    <tr>\n",
       "      <th>3</th>\n",
       "      <td>2.476880e+09</td>\n",
       "      <td>2.210269e-10</td>\n",
       "      <td>5.365551e-01</td>\n",
       "      <td>4348.307052</td>\n",
       "      <td>1.000000</td>\n",
       "      <td>4.043603e+22</td>\n",
       "      <td>-0.069744</td>\n",
       "      <td>8.957373e+09</td>\n",
       "      <td>1.673300e-24</td>\n",
       "      <td>7.930082e+01</td>\n",
       "      <td>...</td>\n",
       "      <td>-1.974806e+14</td>\n",
       "      <td>-1.974806e+14</td>\n",
       "      <td>1.769992</td>\n",
       "      <td>4.348161</td>\n",
       "      <td>2.210158e-10</td>\n",
       "      <td>79.294144</td>\n",
       "      <td>4348.160695</td>\n",
       "      <td>0.400000</td>\n",
       "      <td>1.666667</td>\n",
       "      <td>1.666667</td>\n",
       "    </tr>\n",
       "    <tr>\n",
       "      <th>4</th>\n",
       "      <td>2.477506e+09</td>\n",
       "      <td>2.207059e-10</td>\n",
       "      <td>5.370637e-01</td>\n",
       "      <td>4344.095808</td>\n",
       "      <td>1.000000</td>\n",
       "      <td>4.035332e+22</td>\n",
       "      <td>-0.069674</td>\n",
       "      <td>8.957373e+09</td>\n",
       "      <td>1.673300e-24</td>\n",
       "      <td>7.910895e+01</td>\n",
       "      <td>...</td>\n",
       "      <td>-1.974806e+14</td>\n",
       "      <td>-1.974806e+14</td>\n",
       "      <td>1.769769</td>\n",
       "      <td>4.343950</td>\n",
       "      <td>2.206948e-10</td>\n",
       "      <td>79.102297</td>\n",
       "      <td>4343.949599</td>\n",
       "      <td>0.400000</td>\n",
       "      <td>1.666667</td>\n",
       "      <td>1.666667</td>\n",
       "    </tr>\n",
       "    <tr>\n",
       "      <th>...</th>\n",
       "      <td>...</td>\n",
       "      <td>...</td>\n",
       "      <td>...</td>\n",
       "      <td>...</td>\n",
       "      <td>...</td>\n",
       "      <td>...</td>\n",
       "      <td>...</td>\n",
       "      <td>...</td>\n",
       "      <td>...</td>\n",
       "      <td>...</td>\n",
       "      <td>...</td>\n",
       "      <td>...</td>\n",
       "      <td>...</td>\n",
       "      <td>...</td>\n",
       "      <td>...</td>\n",
       "      <td>...</td>\n",
       "      <td>...</td>\n",
       "      <td>...</td>\n",
       "      <td>...</td>\n",
       "      <td>...</td>\n",
       "      <td>...</td>\n",
       "    </tr>\n",
       "    <tr>\n",
       "      <th>3496</th>\n",
       "      <td>2.579230e+10</td>\n",
       "      <td>7.762870e-19</td>\n",
       "      <td>1.408431e+06</td>\n",
       "      <td>1389.118602</td>\n",
       "      <td>0.359798</td>\n",
       "      <td>1.300142e+13</td>\n",
       "      <td>2.533187</td>\n",
       "      <td>8.957373e+09</td>\n",
       "      <td>1.020179e-24</td>\n",
       "      <td>1.459389e-07</td>\n",
       "      <td>...</td>\n",
       "      <td>-1.945627e+14</td>\n",
       "      <td>-1.974819e+14</td>\n",
       "      <td>-2.537082</td>\n",
       "      <td>-7.059010</td>\n",
       "      <td>NaN</td>\n",
       "      <td>NaN</td>\n",
       "      <td>-7059.010237</td>\n",
       "      <td>0.009242</td>\n",
       "      <td>1.009328</td>\n",
       "      <td>1.009408</td>\n",
       "    </tr>\n",
       "    <tr>\n",
       "      <th>3497</th>\n",
       "      <td>2.580609e+10</td>\n",
       "      <td>7.750675e-19</td>\n",
       "      <td>1.409139e+06</td>\n",
       "      <td>1388.750224</td>\n",
       "      <td>0.359694</td>\n",
       "      <td>1.070199e+13</td>\n",
       "      <td>2.534726</td>\n",
       "      <td>8.957373e+09</td>\n",
       "      <td>1.020115e-24</td>\n",
       "      <td>1.456803e-07</td>\n",
       "      <td>...</td>\n",
       "      <td>-1.945624e+14</td>\n",
       "      <td>-1.974819e+14</td>\n",
       "      <td>-2.536378</td>\n",
       "      <td>-7.055782</td>\n",
       "      <td>NaN</td>\n",
       "      <td>NaN</td>\n",
       "      <td>-7055.781792</td>\n",
       "      <td>0.009239</td>\n",
       "      <td>1.009325</td>\n",
       "      <td>1.009405</td>\n",
       "    </tr>\n",
       "    <tr>\n",
       "      <th>3498</th>\n",
       "      <td>2.581988e+10</td>\n",
       "      <td>7.738506e-19</td>\n",
       "      <td>1.409848e+06</td>\n",
       "      <td>1388.382128</td>\n",
       "      <td>0.359590</td>\n",
       "      <td>8.406840e+12</td>\n",
       "      <td>2.536265</td>\n",
       "      <td>8.957373e+09</td>\n",
       "      <td>1.020050e-24</td>\n",
       "      <td>1.454223e-07</td>\n",
       "      <td>...</td>\n",
       "      <td>-1.945622e+14</td>\n",
       "      <td>-1.974819e+14</td>\n",
       "      <td>-2.535672</td>\n",
       "      <td>-7.052550</td>\n",
       "      <td>NaN</td>\n",
       "      <td>NaN</td>\n",
       "      <td>-7052.550097</td>\n",
       "      <td>0.009237</td>\n",
       "      <td>1.009323</td>\n",
       "      <td>1.009402</td>\n",
       "    </tr>\n",
       "    <tr>\n",
       "      <th>3499</th>\n",
       "      <td>2.583367e+10</td>\n",
       "      <td>7.726363e-19</td>\n",
       "      <td>1.410557e+06</td>\n",
       "      <td>1388.014313</td>\n",
       "      <td>0.359486</td>\n",
       "      <td>6.115954e+12</td>\n",
       "      <td>2.537805</td>\n",
       "      <td>8.957373e+09</td>\n",
       "      <td>1.019985e-24</td>\n",
       "      <td>1.451648e-07</td>\n",
       "      <td>...</td>\n",
       "      <td>-1.945619e+14</td>\n",
       "      <td>-1.974819e+14</td>\n",
       "      <td>-2.534964</td>\n",
       "      <td>-7.049315</td>\n",
       "      <td>NaN</td>\n",
       "      <td>NaN</td>\n",
       "      <td>-7049.315155</td>\n",
       "      <td>0.009234</td>\n",
       "      <td>1.009320</td>\n",
       "      <td>1.009400</td>\n",
       "    </tr>\n",
       "    <tr>\n",
       "      <th>3500</th>\n",
       "      <td>2.584746e+10</td>\n",
       "      <td>7.714246e-19</td>\n",
       "      <td>1.411266e+06</td>\n",
       "      <td>1387.646780</td>\n",
       "      <td>0.359382</td>\n",
       "      <td>3.829324e+12</td>\n",
       "      <td>2.539344</td>\n",
       "      <td>8.957373e+09</td>\n",
       "      <td>1.019921e-24</td>\n",
       "      <td>1.449079e-07</td>\n",
       "      <td>...</td>\n",
       "      <td>-1.945617e+14</td>\n",
       "      <td>-1.974819e+14</td>\n",
       "      <td>-2.534254</td>\n",
       "      <td>-7.046077</td>\n",
       "      <td>NaN</td>\n",
       "      <td>NaN</td>\n",
       "      <td>-7046.076965</td>\n",
       "      <td>0.009232</td>\n",
       "      <td>1.009318</td>\n",
       "      <td>1.009397</td>\n",
       "    </tr>\n",
       "  </tbody>\n",
       "</table>\n",
       "<p>3501 rows × 55 columns</p>\n",
       "</div>"
      ],
      "text/plain": [
       "                 r           rho             v            T        Ys  \\\n",
       "0     2.475000e+09  2.219919e-10  5.350346e-01  4360.953653  1.000000   \n",
       "1     2.475627e+09  2.216699e-10  5.355405e-01  4356.735972  1.000000   \n",
       "2     2.476253e+09  2.213482e-10  5.360473e-01  4352.520439  1.000000   \n",
       "3     2.476880e+09  2.210269e-10  5.365551e-01  4348.307052  1.000000   \n",
       "4     2.477506e+09  2.207059e-10  5.370637e-01  4344.095808  1.000000   \n",
       "...            ...           ...           ...          ...       ...   \n",
       "3496  2.579230e+10  7.762870e-19  1.408431e+06  1389.118602  0.359798   \n",
       "3497  2.580609e+10  7.750675e-19  1.409139e+06  1388.750224  0.359694   \n",
       "3498  2.581988e+10  7.738506e-19  1.409848e+06  1388.382128  0.359590   \n",
       "3499  2.583367e+10  7.726363e-19  1.410557e+06  1388.014313  0.359486   \n",
       "3500  2.584746e+10  7.714246e-19  1.411266e+06  1387.646780  0.359382   \n",
       "\n",
       "              Ncol         q             z            mu             P  ...  \\\n",
       "0     4.068487e+22 -0.069954  8.957373e+09  1.673300e-24  7.987867e+01  ...   \n",
       "1     4.060181e+22 -0.069884  8.957373e+09  1.673300e-24  7.968567e+01  ...   \n",
       "2     4.051886e+22 -0.069814  8.957373e+09  1.673300e-24  7.949306e+01  ...   \n",
       "3     4.043603e+22 -0.069744  8.957373e+09  1.673300e-24  7.930082e+01  ...   \n",
       "4     4.035332e+22 -0.069674  8.957373e+09  1.673300e-24  7.910895e+01  ...   \n",
       "...            ...       ...           ...           ...           ...  ...   \n",
       "3496  1.300142e+13  2.533187  8.957373e+09  1.020179e-24  1.459389e-07  ...   \n",
       "3497  1.070199e+13  2.534726  8.957373e+09  1.020115e-24  1.456803e-07  ...   \n",
       "3498  8.406840e+12  2.536265  8.957373e+09  1.020050e-24  1.454223e-07  ...   \n",
       "3499  6.115954e+12  2.537805  8.957373e+09  1.019985e-24  1.451648e-07  ...   \n",
       "3500  3.829324e+12  2.539344  8.957373e+09  1.019921e-24  1.449079e-07  ...   \n",
       "\n",
       "         bern_isen          bern   ad_prof  static_prof    static_rho  \\\n",
       "0    -1.974806e+14 -1.974806e+14  1.770659     4.360807  2.219807e-10   \n",
       "1    -1.974806e+14 -1.974806e+14  1.770437     4.356589  2.216587e-10   \n",
       "2    -1.974806e+14 -1.974806e+14  1.770214     4.352374  2.213371e-10   \n",
       "3    -1.974806e+14 -1.974806e+14  1.769992     4.348161  2.210158e-10   \n",
       "4    -1.974806e+14 -1.974806e+14  1.769769     4.343950  2.206948e-10   \n",
       "...            ...           ...       ...          ...           ...   \n",
       "3496 -1.945627e+14 -1.974819e+14 -2.537082    -7.059010           NaN   \n",
       "3497 -1.945624e+14 -1.974819e+14 -2.536378    -7.055782           NaN   \n",
       "3498 -1.945622e+14 -1.974819e+14 -2.535672    -7.052550           NaN   \n",
       "3499 -1.945619e+14 -1.974819e+14 -2.534964    -7.049315           NaN   \n",
       "3500 -1.945617e+14 -1.974819e+14 -2.534254    -7.046077           NaN   \n",
       "\n",
       "       static_P     static_T    del_ad   Gamma_2   Gamma_3  \n",
       "0     79.871949  4360.806856  0.400000  1.666667  1.666667  \n",
       "1     79.678969  4356.589322  0.400000  1.666667  1.666667  \n",
       "2     79.486368  4352.373936  0.400000  1.666667  1.666667  \n",
       "3     79.294144  4348.160695  0.400000  1.666667  1.666667  \n",
       "4     79.102297  4343.949599  0.400000  1.666667  1.666667  \n",
       "...         ...          ...       ...       ...       ...  \n",
       "3496        NaN -7059.010237  0.009242  1.009328  1.009408  \n",
       "3497        NaN -7055.781792  0.009239  1.009325  1.009405  \n",
       "3498        NaN -7052.550097  0.009237  1.009323  1.009402  \n",
       "3499        NaN -7049.315155  0.009234  1.009320  1.009400  \n",
       "3500        NaN -7046.076965  0.009232  1.009318  1.009397  \n",
       "\n",
       "[3501 rows x 55 columns]"
      ]
     },
     "execution_count": 3,
     "metadata": {},
     "output_type": "execute_result"
    }
   ],
   "source": [
    "sim.load_uservars()\n",
    "sim.windsoln.soln"
   ]
  },
  {
   "cell_type": "markdown",
   "metadata": {},
   "source": [
    "Note that the `soln` DataFrame with all the user defined variables probably will not display all the columns (variables). This is a pandas DataFrame though, so all the usual tricks still work, such as `sim.windsoln.soln.columns`"
   ]
  },
  {
   "cell_type": "code",
   "execution_count": null,
   "metadata": {},
   "outputs": [],
   "source": [
    "sim.windsoln.soln.columns"
   ]
  },
  {
   "cell_type": "markdown",
   "metadata": {},
   "source": [
    "## Ramping the parameters to change systems\n",
    "\n",
    "To arrive at a new system that has not been solved for and saved before, we step through the system's parameters until we arrive at the desired system. We must step through the parameter space as the underlying numerical solver is a relaxation method. Therefore, we can quickly converge to the solution given a sufficiently good initial guess (and sufficiently bad initial guesses cause the method to fail—mostly from numerical errors generating an singular matrix).\n",
    "\n",
    "This rather involved method of solving for a new system is the primary reason why this wrapper exist. However, the end user only needs to issue a single simple command to ramp to a new system from the current one: `sim.ramp_to(system=system)`.\n",
    "\n",
    "After the system has finished ramping, plots showing a few intermediate states found along the ramping are presented so that one can appreciate how the solution morphed between states (No plots shown if no ramping occurred).\n",
    "\n",
    "Note: If you do not wish to use our boundary condition convergence scheme, and would rather not update the boundaries, then add the keyword argument: `converge=False` (default `converge=True`). We save how we step through the parameter space, and how the boundaries are converged for our methods paper (McCann & Murray-Clay 2021)."
   ]
  },
  {
   "cell_type": "code",
   "execution_count": null,
   "metadata": {},
   "outputs": [],
   "source": [
    "sim.ramp_to(system=GJ436b);"
   ]
  },
  {
   "cell_type": "code",
   "execution_count": null,
   "metadata": {},
   "outputs": [],
   "source": [
    "fig, ax = plt.subplots(2,2)\n",
    "four_panel_plot(sim.windsoln, ax, sub_sonic=True)\n",
    "fig.tight_layout()"
   ]
  },
  {
   "cell_type": "markdown",
   "metadata": {},
   "source": [
    "## Saving the system\n",
    "\n",
    "You can save any new results with `save_planet(filename, folder=folder)`. By default all saved results are placed in `saves/` in the main relaxation directory. This is further organized by creating directories within `saves/`, where the folder name is set to the folder name provided by the keyword argument `folder`. If you do not provide the keyword argument `folder`, it defaults to `my_saves/`. Therefore, the only saved wind solution in `saves/` is the latest successful run of the relaxation code, which is always called `windsoln.csv`.\n",
    "\n",
    "There is also overwrite protection, such that if the filename already exist it will not overwrite that file. If you wish to overwrite the file then set the keyword argument `overwrite` to `True`. If you do not wish to save the results to `saves/` then you may change the base repository where you are saving the results by providing the keyword argument `repo`.\n",
    "\n",
    "Solutions are saved as csv, when providing the filename one can either include or omit the extention as it will be added automatically if needed.\n",
    "\n",
    "It is typically desirable to polish up the results before saving them, so we perform a nonexpedited call to `sim.converge_all_bcs()` just before saving."
   ]
  },
  {
   "cell_type": "code",
   "execution_count": null,
   "metadata": {},
   "outputs": [],
   "source": [
    "sim.converge_all_bcs(expedite=False)\n",
    "sim.save_planet('GJ436b_HI_100eV-RyH_mono.csv', folder='known_planets')"
   ]
  },
  {
   "cell_type": "markdown",
   "metadata": {},
   "source": [
    "## Producing a novel spectrum\n",
    "\n",
    "The simulation is capable of simulating either a monochromatic or multifrequency stellar spectrum. To do so the user first must make sure that the package `McAstro` has been installed in the relaxation git repository. `McAstro` is tracked as a submodule, so please see the `README.md` for instruction on how to install `McAstro`.\n",
    "\n",
    "When a `spectrum` object is initalized, it fetches $\\texttt{LISARD}$ solar spectrums. We use the $\\texttt{FISM2}$ model (based on missions such as $\\texttt{SDO}$/$\\texttt{EVE}$) to retrieve the shape of ionizing end of the solar spectrum. Generalizing the shape of the Sun's ionizing spectrum to be representative, we can then scale it by the $F_{\\mathrm{uv}}$ parameters provided as a planetary parameter to produce a spectrum representative of the desired system. Please see the method paper for the full description of how the spectrum is integrated (McCann & Murray-Clay 2020).\n",
    "\n",
    "The `FISM2` model is read into a `pandas` `DataFrame`, which can be accessed thru `spectrum.data`"
   ]
  },
  {
   "cell_type": "code",
   "execution_count": 3,
   "metadata": {},
   "outputs": [
    {
     "name": "stdout",
     "output_type": "stream",
     "text": [
      "wl_min in lisard_spectrum 5e-09\n",
      "Min in nm from glq_spectrum.py 0.05\n",
      "spectrum.py: print norm_span [5.0000e-02 1.8995e+02]\n",
      "[5.0000e-02 1.8995e+02]\n",
      "bin_spectrum - bin_breaks[0]: 0.05\n",
      "truncate_spectrum has been activated and, therefore, bin_spectrum(new_breaks).\n",
      "normaliz: norm_span 0.05\n",
      "normalize: rslv_span 0.05\n",
      "smoothing 0.05\n",
      "fit polynomial 0.05\n",
      "window span in abscissa [5.0000e-02 1.8995e+02]\n",
      "set_abscissa: n_bins =  1\n",
      "[5.00000000e-02 9.11648932e+01 1.89950000e+02]\n",
      "bin_spectrum - bin_breaks[0]: 0.05\n",
      "bin_spectrum has been activated.\n",
      "add_species threshold limiter has been activated. Threshold wl = 91.16489319137749\n",
      "[5.00000000e-02 9.11648932e+01 1.89950000e+02]\n",
      "bin_spectrum - bin_breaks[0]: 0.05\n",
      "truncate_spectrum has been activated and, therefore, bin_spectrum(new_breaks).\n",
      "[5.00000000e-02 5.04205997e+01 9.11648932e+01 1.89950000e+02]\n",
      "bin_spectrum - bin_breaks[0]: 0.05\n",
      "bin_spectrum has been activated.\n",
      "add_species threshold limiter has been activated. Threshold wl = 50.42059973170939\n",
      "[5.00000000e-02 5.04205997e+01 9.11648932e+01 1.89950000e+02]\n",
      "bin_spectrum - bin_breaks[0]: 0.05\n",
      "truncate_spectrum has been activated and, therefore, bin_spectrum(new_breaks).\n",
      "relax_wrapper.py: load_spectrum soln_normalized [12.39842547 91.17633513]\n",
      "spectrum.py: print norm_span [12.39842547 91.17633513]\n",
      "[12.39842547 50.42059973 91.16489319]\n",
      "bin_spectrum - bin_breaks[0]: 12.39842547402734\n",
      "truncate_spectrum has been activated and, therefore, bin_spectrum(new_breaks).\n",
      "normaliz: norm_span 12.39842547402734\n",
      "normalize: rslv_span 12.39842547402734\n",
      "smoothing 12.39842547402734\n",
      "fit polynomial 12.39842547402734\n",
      "window span in abscissa [30.99606369 91.17633513]\n",
      "set_abscissa: n_bins =  2\n",
      "load_spectrum (and, therefore, glq_spectrum.py/add_species) activated in load_planet\n"
     ]
    },
    {
     "data": {
      "text/html": [
       "<div>\n",
       "<style scoped>\n",
       "    .dataframe tbody tr th:only-of-type {\n",
       "        vertical-align: middle;\n",
       "    }\n",
       "\n",
       "    .dataframe tbody tr th {\n",
       "        vertical-align: top;\n",
       "    }\n",
       "\n",
       "    .dataframe thead th {\n",
       "        text-align: right;\n",
       "    }\n",
       "</style>\n",
       "<table border=\"1\" class=\"dataframe\">\n",
       "  <thead>\n",
       "    <tr style=\"text-align: right;\">\n",
       "      <th></th>\n",
       "      <th>wl</th>\n",
       "      <th>F_wl</th>\n",
       "      <th>unc</th>\n",
       "      <th>nu</th>\n",
       "      <th>F_nu</th>\n",
       "      <th>E</th>\n",
       "      <th>Phi_wl</th>\n",
       "      <th>bin</th>\n",
       "    </tr>\n",
       "  </thead>\n",
       "  <tbody>\n",
       "    <tr>\n",
       "      <th>0</th>\n",
       "      <td>5.000000e-09</td>\n",
       "      <td>1.405196e-02</td>\n",
       "      <td>77.214417</td>\n",
       "      <td>5.995849e+18</td>\n",
       "      <td>1.171807e-29</td>\n",
       "      <td>3.972895e-08</td>\n",
       "      <td>3.536957e+05</td>\n",
       "      <td>-1</td>\n",
       "    </tr>\n",
       "    <tr>\n",
       "      <th>1</th>\n",
       "      <td>1.500000e-08</td>\n",
       "      <td>5.189303e+00</td>\n",
       "      <td>12.228290</td>\n",
       "      <td>1.998616e+18</td>\n",
       "      <td>3.894672e-26</td>\n",
       "      <td>1.324298e-08</td>\n",
       "      <td>3.918530e+08</td>\n",
       "      <td>-1</td>\n",
       "    </tr>\n",
       "    <tr>\n",
       "      <th>2</th>\n",
       "      <td>2.500000e-08</td>\n",
       "      <td>2.402619e+01</td>\n",
       "      <td>3.204344</td>\n",
       "      <td>1.199170e+18</td>\n",
       "      <td>5.008921e-25</td>\n",
       "      <td>7.945790e-09</td>\n",
       "      <td>3.023764e+09</td>\n",
       "      <td>-1</td>\n",
       "    </tr>\n",
       "    <tr>\n",
       "      <th>3</th>\n",
       "      <td>3.500000e-08</td>\n",
       "      <td>1.181141e+02</td>\n",
       "      <td>1.402067</td>\n",
       "      <td>8.565499e+17</td>\n",
       "      <td>4.826333e-24</td>\n",
       "      <td>5.675564e-09</td>\n",
       "      <td>2.081100e+10</td>\n",
       "      <td>-1</td>\n",
       "    </tr>\n",
       "    <tr>\n",
       "      <th>4</th>\n",
       "      <td>4.500000e-08</td>\n",
       "      <td>5.690522e+02</td>\n",
       "      <td>0.811103</td>\n",
       "      <td>6.662055e+17</td>\n",
       "      <td>3.843762e-23</td>\n",
       "      <td>4.414328e-09</td>\n",
       "      <td>1.289103e+11</td>\n",
       "      <td>-1</td>\n",
       "    </tr>\n",
       "    <tr>\n",
       "      <th>...</th>\n",
       "      <td>...</td>\n",
       "      <td>...</td>\n",
       "      <td>...</td>\n",
       "      <td>...</td>\n",
       "      <td>...</td>\n",
       "      <td>...</td>\n",
       "      <td>...</td>\n",
       "      <td>...</td>\n",
       "    </tr>\n",
       "    <tr>\n",
       "      <th>1895</th>\n",
       "      <td>1.895500e-05</td>\n",
       "      <td>3.594734e+07</td>\n",
       "      <td>0.014672</td>\n",
       "      <td>1.581601e+15</td>\n",
       "      <td>4.308177e-13</td>\n",
       "      <td>1.047981e-11</td>\n",
       "      <td>3.430152e+18</td>\n",
       "      <td>-1</td>\n",
       "    </tr>\n",
       "    <tr>\n",
       "      <th>1896</th>\n",
       "      <td>1.896500e-05</td>\n",
       "      <td>3.705059e+07</td>\n",
       "      <td>0.013978</td>\n",
       "      <td>1.580767e+15</td>\n",
       "      <td>4.445086e-13</td>\n",
       "      <td>1.047428e-11</td>\n",
       "      <td>3.537292e+18</td>\n",
       "      <td>-1</td>\n",
       "    </tr>\n",
       "    <tr>\n",
       "      <th>1897</th>\n",
       "      <td>1.897500e-05</td>\n",
       "      <td>3.522409e+07</td>\n",
       "      <td>0.016207</td>\n",
       "      <td>1.579934e+15</td>\n",
       "      <td>4.230411e-13</td>\n",
       "      <td>1.046876e-11</td>\n",
       "      <td>3.364685e+18</td>\n",
       "      <td>-1</td>\n",
       "    </tr>\n",
       "    <tr>\n",
       "      <th>1898</th>\n",
       "      <td>1.898500e-05</td>\n",
       "      <td>3.087289e+07</td>\n",
       "      <td>0.015229</td>\n",
       "      <td>1.579102e+15</td>\n",
       "      <td>3.711743e-13</td>\n",
       "      <td>1.046325e-11</td>\n",
       "      <td>2.950604e+18</td>\n",
       "      <td>-1</td>\n",
       "    </tr>\n",
       "    <tr>\n",
       "      <th>1899</th>\n",
       "      <td>1.899500e-05</td>\n",
       "      <td>3.404378e+07</td>\n",
       "      <td>0.013848</td>\n",
       "      <td>1.578270e+15</td>\n",
       "      <td>4.097280e-13</td>\n",
       "      <td>1.045774e-11</td>\n",
       "      <td>3.255367e+18</td>\n",
       "      <td>-1</td>\n",
       "    </tr>\n",
       "  </tbody>\n",
       "</table>\n",
       "<p>1900 rows × 8 columns</p>\n",
       "</div>"
      ],
      "text/plain": [
       "                wl          F_wl        unc            nu          F_nu  \\\n",
       "0     5.000000e-09  1.405196e-02  77.214417  5.995849e+18  1.171807e-29   \n",
       "1     1.500000e-08  5.189303e+00  12.228290  1.998616e+18  3.894672e-26   \n",
       "2     2.500000e-08  2.402619e+01   3.204344  1.199170e+18  5.008921e-25   \n",
       "3     3.500000e-08  1.181141e+02   1.402067  8.565499e+17  4.826333e-24   \n",
       "4     4.500000e-08  5.690522e+02   0.811103  6.662055e+17  3.843762e-23   \n",
       "...            ...           ...        ...           ...           ...   \n",
       "1895  1.895500e-05  3.594734e+07   0.014672  1.581601e+15  4.308177e-13   \n",
       "1896  1.896500e-05  3.705059e+07   0.013978  1.580767e+15  4.445086e-13   \n",
       "1897  1.897500e-05  3.522409e+07   0.016207  1.579934e+15  4.230411e-13   \n",
       "1898  1.898500e-05  3.087289e+07   0.015229  1.579102e+15  3.711743e-13   \n",
       "1899  1.899500e-05  3.404378e+07   0.013848  1.578270e+15  4.097280e-13   \n",
       "\n",
       "                 E        Phi_wl  bin  \n",
       "0     3.972895e-08  3.536957e+05   -1  \n",
       "1     1.324298e-08  3.918530e+08   -1  \n",
       "2     7.945790e-09  3.023764e+09   -1  \n",
       "3     5.675564e-09  2.081100e+10   -1  \n",
       "4     4.414328e-09  1.289103e+11   -1  \n",
       "...            ...           ...  ...  \n",
       "1895  1.047981e-11  3.430152e+18   -1  \n",
       "1896  1.047428e-11  3.537292e+18   -1  \n",
       "1897  1.046876e-11  3.364685e+18   -1  \n",
       "1898  1.046325e-11  2.950604e+18   -1  \n",
       "1899  1.045774e-11  3.255367e+18   -1  \n",
       "\n",
       "[1900 rows x 8 columns]"
      ]
     },
     "execution_count": 3,
     "metadata": {},
     "output_type": "execute_result"
    }
   ],
   "source": [
    "if not McAstro_loaded:\n",
    "    print('ERROR: Currently cannot use spectrum feature without McAstro.\\n'\n",
    "          '       Skip to next section of tutorial or load McAstro.')\n",
    "    assert(False)\n",
    "sim = wind_sim()\n",
    "sim.spectrum.data"
   ]
  },
  {
   "cell_type": "markdown",
   "metadata": {},
   "source": [
    "To review what the solar spectrum looks like we plot it below. A $\\texttt{FISM2}$ spectrum's runs from [0.01 - 190] nm in 0.1 nm spectral bins, but here we mask the data to look at the uv range. In our simulations we avoid results involving hard x-rays, as their ionization processes often invovle numerous secondary ionizations, which currently would not be properly modeled in the relaxation code."
   ]
  },
  {
   "cell_type": "code",
   "execution_count": 4,
   "metadata": {},
   "outputs": [
    {
     "data": {
      "image/png": "[encoded data removed]",
      "text/plain": [
       "<Figure size 432x288 with 1 Axes>"
      ]
     },
     "metadata": {
      "needs_background": "light"
     },
     "output_type": "display_data"
    }
   ],
   "source": [
    "fig, ax = sim.spectrum.plot(var='Phi_wl')"
   ]
  },
  {
   "cell_type": "markdown",
   "metadata": {},
   "source": [
    "## Generate a new spectrum"
   ]
  },
  {
   "cell_type": "code",
   "execution_count": 5,
   "metadata": {},
   "outputs": [
    {
     "name": "stdout",
     "output_type": "stream",
     "text": [
      "wl_min in lisard_spectrum 5e-09\n",
      "Min in nm from glq_spectrum.py 0.05\n",
      "spectrum.py: print norm_span [5.0000e-02 1.8995e+02]\n",
      "[5.0000e-02 1.8995e+02]\n",
      "bin_spectrum - bin_breaks[0]: 0.05\n",
      "truncate_spectrum has been activated and, therefore, bin_spectrum(new_breaks).\n",
      "normaliz: norm_span 0.05\n",
      "normalize: rslv_span 0.05\n",
      "smoothing 0.05\n",
      "fit polynomial 0.05\n",
      "window span in abscissa [5.0000e-02 1.8995e+02]\n",
      "set_abscissa: n_bins =  1\n"
     ]
    }
   ],
   "source": [
    "my_spectrum = spectrum()"
   ]
  },
  {
   "cell_type": "markdown",
   "metadata": {},
   "source": [
    "### Adding species\n",
    "\n",
    "`WARNING`: Currently only hydrogen has been vetted and is capable of being model in the relaxation code.\n",
    "\n",
    "Now the species in the atmosphere does not alter the stellar spectrum; however, the `spectrum` class also does the heavy lifting of calculating the frequency dependent cross section and outputting that at the approperaite abscissas for the Gauss-Legendre quadrature ionizationg and heating scheme. It is also convient to add the species first, so that later the boundaries of the ionizing spectrum can be determined based off the ionization thresholds of all the species in the planetary outflow.\n",
    "\n",
    "To add a species for the `spectrum` to track use `spectrum.add_species(name)`, where name is the spectroscopic name of the species, i.e., atomic symbol + ionization stage, e.g., neutral hydrogen is 'H I', neutral helium is 'He I', signlely ionized helium is 'He II', triplely ionized carbon is 'C IV', etc."
   ]
  },
  {
   "cell_type": "code",
   "execution_count": 6,
   "metadata": {},
   "outputs": [
    {
     "name": "stdout",
     "output_type": "stream",
     "text": [
      "[5.00000000e-02 9.11648932e+01 1.89950000e+02]\n",
      "bin_spectrum - bin_breaks[0]: 0.05\n",
      "bin_spectrum has been activated.\n",
      "add_species threshold limiter has been activated. Threshold wl = 91.16489319137749\n",
      "[5.00000000e-02 9.11648932e+01 1.89950000e+02]\n",
      "bin_spectrum - bin_breaks[0]: 0.05\n",
      "truncate_spectrum has been activated and, therefore, bin_spectrum(new_breaks).\n"
     ]
    }
   ],
   "source": [
    "my_spectrum.add_species('H I')"
   ]
  },
  {
   "cell_type": "markdown",
   "metadata": {},
   "source": [
    "### Selecting the domain\n",
    "\n",
    "The simulation can handle both monochromatic and multifrequency domains. So then the end user may chose how they wish to model the planetary wind's energy source. Although many may find the multifrequency results to be more exciting, there is moderate computational overhead invovled in such simulations. As such, a $\\texttt{pro}$ficient end user will ramp between systems with a \"decent\" monochromatic spectrum, and then polish up their desired system with a multifrequency spectrum.\n",
    "\n",
    "Now to select the frequency domain can uses `spectrum.window(lob, upb=upb)` and provides a lower boundary (lob), and an upper boundary (upb) of the wavelengths in cgs, i.e., cm. If only a lower bound is provided an upper bound will be automatically determined by finding the lowest ionization threshold amoungst all the species in the spectrum, e.g., for a hydrogen only atmosphere the upper bound will be found to be ~91.2 nm.\n",
    "\n",
    "For a monochromatic source one can either provide a lower boundary and upper boundary equal to one another, or use `spectrum.monochrome(wavelength)`. All the user needs to provide then is the wavelength in cm that the monochromatic light acts at."
   ]
  },
  {
   "cell_type": "code",
   "execution_count": 8,
   "metadata": {},
   "outputs": [
    {
     "name": "stdout",
     "output_type": "stream",
     "text": [
      "[12.39842547 91.17633513]\n"
     ]
    }
   ],
   "source": [
    "resolved = const.hc/(np.array([100*const.eV, const.RyH])*my_spectrum.wl_norm)\n",
    "print(resolved)\n",
    "my_spectrum.set_resolved(*resolved)"
   ]
  },
  {
   "cell_type": "code",
   "execution_count": 9,
   "metadata": {},
   "outputs": [
    {
     "name": "stdout",
     "output_type": "stream",
     "text": [
      "[12.39842547 91.17633513]\n",
      "spectrum.py: print norm_span [12.39842547 91.17633513]\n",
      "[12.39842547 91.16489319]\n",
      "bin_spectrum - bin_breaks[0]: 12.39842547402734\n",
      "truncate_spectrum has been activated and, therefore, bin_spectrum(new_breaks).\n",
      "normaliz: norm_span 12.39842547402734\n",
      "normalize: rslv_span 12.39842547402734\n",
      "smoothing 12.39842547402734\n",
      "fit polynomial 12.39842547402734\n"
     ]
    }
   ],
   "source": [
    "normalized = const.hc/(np.array([100*const.eV, const.RyH])*my_spectrum.wl_norm)\n",
    "print(normalized)\n",
    "my_spectrum.set_normalized(*normalized)"
   ]
  },
  {
   "cell_type": "code",
   "execution_count": 10,
   "metadata": {},
   "outputs": [
    {
     "name": "stdout",
     "output_type": "stream",
     "text": [
      "window span in abscissa [12.39842547 91.17633513]\n",
      "set_abscissa: n_bins =  1\n"
     ]
    }
   ],
   "source": [
    "kind = 'full'\n",
    "if kind == 'full':\n",
    "    window = resolved\n",
    "elif kind == 'mono' or kind == 'fixed':\n",
    "    window = const.hc/(np.array([20*const.eV])*my_spectrum.wl_norm)\n",
    "my_spectrum.set_window(*window, kind=kind)"
   ]
  },
  {
   "cell_type": "code",
   "execution_count": 13,
   "metadata": {},
   "outputs": [
    {
     "name": "stdout",
     "output_type": "stream",
     "text": [
      "write_csv n_bins: 1\n",
      "write_csv: n_subbins [7]\n",
      "write_csv, npts: 66\n",
      "ion: 2.178960992e-11\n"
     ]
    }
   ],
   "source": [
    "my_spectrum.generate(kind='full', savefile='inputs/test_spectrum.inp')"
   ]
  },
  {
   "cell_type": "code",
   "execution_count": 11,
   "metadata": {},
   "outputs": [
    {
     "data": {
      "image/png": "[encoded data removed]",
      "text/plain": [
       "<Figure size 432x288 with 1 Axes>"
      ]
     },
     "metadata": {
      "needs_background": "light"
     },
     "output_type": "display_data"
    }
   ],
   "source": [
    "fig, ax = sim.spectrum.glq_spectrum.plot()"
   ]
  },
  {
   "cell_type": "markdown",
   "metadata": {},
   "source": [
    "### Converging results to new spectrum\n",
    "\n",
    "A new spectrum shape will alter the results of the simulation, as high energy photons penetrate deeper into the atmosphere. Therefore, just as the other parameters, the system needs to be slowly ramped up from its initial state to its final desired state. This is accomplished by calling the `wind_simulation.ramp_spectrum()` method, which ramps the spectrum to the current spectrum object stored in the `wind_simulation` object."
   ]
  },
  {
   "cell_type": "code",
   "execution_count": 12,
   "metadata": {},
   "outputs": [
    {
     "name": "stdout",
     "output_type": "stream",
     "text": [
      "ERROR: Species H I not found in prior solution's species list:\n",
      "       ['H I', 'He I']\n"
     ]
    }
   ],
   "source": [
    "sim.ramp_spectrum(my_spectrum, debug=False)"
   ]
  },
  {
   "cell_type": "markdown",
   "metadata": {},
   "source": [
    "### Congratulations\n",
    "\n",
    "You have now run a full multifrequency simulation of atmospheric escape. As these require a relavtively modest amount of time, it's never a bad idea to save your results if they are interesting. Note that I used 'full_spectrum' for the folder, therefore this fill will be organized under `saves/full_spectrum/`. For the filename the system name, species, and a monkier for our selected spectrum have been combined to form a unquie filename. This will help us distinguish our full spectrum results from our monochromatic results. Consider using both creative filename and folder names (and trees of folders) to efficiently organize your results."
   ]
  },
  {
   "cell_type": "code",
   "execution_count": null,
   "metadata": {},
   "outputs": [],
   "source": [
    "sim.converge_all_bcs(expedite=False)\n",
    "sim.save_planet('GJ436b_HI_100-RyH', folder='full_spectrum')"
   ]
  },
  {
   "cell_type": "markdown",
   "metadata": {},
   "source": [
    "## Tracking multiple simulations\n",
    "\n",
    "Multiple wrappers objects can be initalized allowing for multiple simulations to be used at once. While the relaxation code working directory is aligned with the last simulation to have issued an execution, the each wrapper is capable of realigning the working directory to that of its own simulation. Therefore, you can start ramping an Earth simulation, put that on pause create a new wrapper object for a complete new Jupiter, mess around with that then pick up with your Earth simulation effortlessly.\n",
    "\n",
    "As we already saved a GJ 436 b monochromatic simulation, let's create a wrapper object for that simulation. Note that this will not overwrite the working directory until an execution is called, e.g., ramping variables. We also do a nonexpedited load as we are about to do some analysis!"
   ]
  },
  {
   "cell_type": "code",
   "execution_count": 3,
   "metadata": {},
   "outputs": [],
   "source": [
    "sim_40mono = wind_sim(csv_file='saves/GJ436/b_40eV-RyH_mono.csv')\n",
    "sim_40mono.load_uservars('saves/GJ436/b_40eV-RyH_mono.csv')"
   ]
  },
  {
   "cell_type": "code",
   "execution_count": 4,
   "metadata": {},
   "outputs": [],
   "source": [
    "sim_40 = wind_sim(csv_file='saves/GJ436/b_40eV-RyH.csv')\n",
    "sim_40.load_uservars('saves/GJ436/b_40eV-RyH.csv')"
   ]
  },
  {
   "cell_type": "code",
   "execution_count": 5,
   "metadata": {},
   "outputs": [],
   "source": [
    "sim_100mono = wind_sim(csv_file='saves/GJ436/b_100eV-RyH_mono.csv')\n",
    "sim_100mono.load_uservars('saves/GJ436/b_100eV-RyH_mono.csv')"
   ]
  },
  {
   "cell_type": "code",
   "execution_count": null,
   "metadata": {},
   "outputs": [],
   "source": [
    "sim_100 = wind_sim(csv_file='saves/GJ436/b_100eV-RyH.csv')\n",
    "sim_100.load_uservars('saves/GJ436/b_100eV-RyH.csv')"
   ]
  },
  {
   "cell_type": "code",
   "execution_count": null,
   "metadata": {},
   "outputs": [],
   "source": [
    "sim_40mono = wind_sim(csv_file='saves/Allison/TOI1231b_40eV-RyH_mono.csv')\n",
    "sim_40mono.load_uservars('saves/Allison/TOI1231b_40eV-RyH_mono.csv')\n",
    "\n",
    "sim_40 = wind_sim(csv_file='saves/Allison/TOI1231b_40eV-RyH_full.csv')\n",
    "sim_40.load_uservars('saves/Allison/TOI1231b_40eV-RyH_full.csv')\n",
    "\n",
    "sim_100 = wind_sim(csv_file='saves/Allison/TOI1231b_100eV-RyH_full.csv')\n",
    "sim_100.load_uservars('saves/Allison/TOI1231b_100eV-RyH_full.csv')"
   ]
  },
  {
   "cell_type": "code",
   "execution_count": null,
   "metadata": {},
   "outputs": [],
   "source": [
    "fig, ax = plt.subplots(2,2)\n",
    "four_panel_plot(sim_40.windsoln, ax, label='[40-13.6] eV',\n",
    "                 sub_sonic=True, past_rmin=False)\n",
    "four_panel_plot(sim_40mono.windsoln, ax, label='[40-13.6] eV mono',\n",
    "                sub_sonic=True, past_rmin=False)\n",
    "four_panel_plot(sim_100.windsoln, ax, label='[100-13.6] eV',\n",
    "                sub_sonic=True, past_rmin=False)\n",
    "# four_panel_plot(sim_100mono.windsoln, ax, label='[100-13.6] eV mono',\n",
    "#                 sub_sonic=True, past_rmin=False)\n",
    "fig.tight_layout(pad=0.3)\n",
    "fig.suptitle('Four Panel GJ 436 b Plot')\n",
    "fig.subplots_adjust(bottom=0.3, top=0.925)\n",
    "fig.legend(bbox_to_anchor=(0.5, 0.0), loc='lower center', ncol=2);"
   ]
  },
  {
   "cell_type": "markdown",
   "metadata": {},
   "source": [
    "## Analysis\n",
    "\n",
    "Congratulations! You now know the basics and should have enough to get started simulating your own planets. In this last section we briefly touch on a few core bits of analysis that we feel end users should know how to do. For a bit of fun we will be analysising GJ 436 b for both a 20 eV monochromatic source, and the multifrequency uv spectrum we've defined.\n",
    "\n",
    "### Massloss rate\n",
    "\n",
    "If atmospheric escape had to be reduced to a single number this would be it. For every `wind_solution` object created, the maximal 3-D estimated mass-loss rate is always calculated and assigned to `wind_solution.Mdot`. Here we define exactly what the maximal 3-D mass-loss rate is\n",
    "\n",
    "$$\\dot{M}_{\\mathrm{3D}} =4 \\pi \\, r_{c}^2 \\, \\rho(r_{c}) \\, v(r_{c}).$$\n",
    "\n",
    "Here $r_c$ is the critical point, or sonic radius, $v$ is the velocity of the gas (which is necessarily equal to the sound speed at the critical point), and $\\rho$ is the density. As our simulation is 1-D spherically symmetric, then this is certainly an upper limit as the effects of tidal gravity and ionizing flux at the sub-stellar point has the greatest energy injection."
   ]
  },
  {
   "cell_type": "code",
   "execution_count": null,
   "metadata": {},
   "outputs": [],
   "source": [
    "print(f'[100-13.6] eV monochromatic Mdot = {sim_100.windsoln.Mdot:e} g/s')\n",
    "print(f'[100-13.6] eV spectrum Mdot      = {sim_100mono.windsoln.Mdot:e} g/s')"
   ]
  },
  {
   "cell_type": "code",
   "execution_count": null,
   "metadata": {},
   "outputs": [],
   "source": [
    "print(f'[40-13.6] eV monochromatic Mdot = {sim_40mono.windsoln.Mdot:e} g/s')\n",
    "print(f'[40-13.6] eV spectrum Mdot      = {sim_40.windsoln.Mdot:e} g/s')"
   ]
  },
  {
   "cell_type": "code",
   "execution_count": null,
   "metadata": {},
   "outputs": [],
   "source": [
    "print(sim_40mono.windsoln.eff1*sim_40mono.windsoln.F0,\n",
    "      sim_40.windsoln.eff1*sim_40.windsoln.F0)\n",
    "print(sim_100mono.windsoln.eff1*sim_100mono.windsoln.F0,\n",
    "      sim_100.windsoln.eff1*sim_100.windsoln.F0)"
   ]
  },
  {
   "cell_type": "markdown",
   "metadata": {},
   "source": [
    "### Plotting the solution\n",
    "\n",
    "Several plots we have found useful for analysis have been stored in `wrapper_utils/plots.py`. All of these functions have already been imported and we will now give a brief overview of them.\n",
    "\n",
    "#### Quick overview of solution: `four_panel_plot()`\n",
    "\n",
    "This is the main plotting routine for quickly reviewing the results of the simulations. As it's name suggest it takes in a (2,2) axes object, and plots the velocity, density, temperature, and neutral fraction as a function of radius. For all keyword arguments see `help(four_panel_plot)`."
   ]
  },
  {
   "cell_type": "code",
   "execution_count": null,
   "metadata": {},
   "outputs": [],
   "source": [
    "fig, ax = plt.subplots(2,2)\n",
    "four_panel_plot(sim_100mono.windsoln, ax, label='mono',\n",
    "                sub_sonic=False, past_rmin=True)\n",
    "four_panel_plot(sim_100.windsoln, ax, label='uv',\n",
    "                sub_sonic=False, past_rmin=True)\n",
    "fig.tight_layout(pad=0.3)\n",
    "fig.suptitle('Four Panel GJ 436 b Plot')\n",
    "fig.subplots_adjust(bottom=0.225, top=0.925)\n",
    "fig.legend(bbox_to_anchor=(0.5, 0.0), loc='lower center', ncol=2);"
   ]
  },
  {
   "cell_type": "markdown",
   "metadata": {},
   "source": [
    "#### Energy budget: `energy_plot()`\n",
    "\n",
    "To see what the energetic rates are as a function of radius one can use this routine. A notable keyword argument is `all_terms`, which if toggled to `True` will plot terms that were not included in the relaxation simulation to sanity check if they would have been relevant. "
   ]
  },
  {
   "cell_type": "code",
   "execution_count": null,
   "metadata": {},
   "outputs": [],
   "source": [
    "fig, ax = plt.subplots()\n",
    "energy_plot(sim_100mono.windsoln, ax, sub_sonic=False, all_terms=False)\n",
    "ax.set_title('Monochromatic')\n",
    "fig.tight_layout()\n",
    "\n",
    "fig, ax = plt.subplots()\n",
    "energy_plot(sim_100.windsoln, ax, sub_sonic=False, all_terms=False)\n",
    "ax.set_title('Spectrum')\n",
    "fig.tight_layout()"
   ]
  },
  {
   "cell_type": "markdown",
   "metadata": {},
   "source": [
    "#### Coriolis analysis: `coriolis_plot()`\n",
    "\n",
    "As our simulation is 1-D one needs to consider when 3-D effects will substantially alter the results. In a quick overview, we calculate the angle at which the 1-D simulated streamline's momentum would have deflected by one radian as where the Coriolis force starts to play an important role in the outflow. The red-dashed horizontal line equals one radian, while the dashed purple vertical lines represents the Coriolis length, where the angle has been deflected by one radian."
   ]
  },
  {
   "cell_type": "code",
   "execution_count": null,
   "metadata": {},
   "outputs": [],
   "source": [
    "fig, ax = plt.subplots()\n",
    "coriolis_plot(sim_100mono.windsoln, ax, var='vel_angle', label_system='mono')\n",
    "coriolis_plot(sim_100.windsoln, ax, var='vel_angle', label_system='uv')\n",
    "fig.tight_layout()"
   ]
  },
  {
   "cell_type": "markdown",
   "metadata": {},
   "source": [
    "#### Knudsen Number `collisionality_plot()`\n",
    "\n",
    "Some have aired dissent that models such as these are invalid, and rather kinetic models are needed to simulate planetary outflow. The primary issue with these assertions is the reliance on using hardbody scattering as the means of calculating the collisionality of the gas. However, as the outflow is acknowledged to have been launched due to ionization the dominate collisional mechanism will rather be Coulomb scattering. Coulomb scatter is widely known to have a much large cross section than hardbody scattering, and is why these outflows are actually collisional despite objections otherwise.\n",
    "\n",
    "To drive this point home we plot the Knudsen number using several collisional mechanisms. If your planet is somehow not collisional ($\\mathrm{Kn} \\gtrsim 1$) by the critical point (the dashed red vertical line), then we also assert the model is beginning to lose appropriateness. Our preferred model is the weighted scheme, which takes into account the neutral's colliding via hardbody and the ions with Coulomb. Note that while neutral-ion coupling has not been explained, the ions typically make up more than 90% of the outflow by the time hardbody scattering reaches $\\mathrm{Kn} \\sim 1$."
   ]
  },
  {
   "cell_type": "code",
   "execution_count": null,
   "metadata": {},
   "outputs": [],
   "source": [
    "fig, ax = plt.subplots()\n",
    "collisionality_plot(sim_100mono.windsoln, ax)\n",
    "fig.suptitle('GJ 436 b w/monochromatic source', y=1.01)\n",
    "fig.tight_layout()\n",
    "\n",
    "fig, ax = plt.subplots()\n",
    "collisionality_plot(sim_100.windsoln, ax)\n",
    "fig.suptitle('GJ 436 b w/uv spectrum', y=1.01)\n",
    "fig.tight_layout()"
   ]
  },
  {
   "cell_type": "markdown",
   "metadata": {},
   "source": [
    "### Freestyle plotting\n",
    "\n",
    "Recall that the `wind_solution` object has all the information stored in panda DataFrames and is easily accessible for creating your own custom plots. We provide two interesting plots as a template."
   ]
  },
  {
   "cell_type": "code",
   "execution_count": null,
   "metadata": {},
   "outputs": [],
   "source": [
    "fig, ax = plt.subplots(1,1)\n",
    "ax.axhline((sim.windsoln.soln['bern_isen']-sim.windsoln.soln['bern_rogue'])[0],\n",
    "           alpha=0.5, ls='--', c='gray')\n",
    "# ax.axhline(0, alpha=0.5, ls='--', c='gray')\n",
    "ax.axvline(sim.windsoln.rHill, ls='-.', alpha=0.5, c='y')\n",
    "ax.axvline(sim.windsoln.soln_norm['z'][1]+1, alpha=0.5, ls='--', c='r')\n",
    "ax.plot(sim.windsoln.soln_norm['r'], sim.windsoln.soln['bern'],\n",
    "        label='True')\n",
    "ax.plot(sim.windsoln.soln_norm['r'], sim.windsoln.soln['bern_isen'],\n",
    "        label='Isentropic')\n",
    "\n",
    "ax.plot(sim.windsoln.soln_norm['r'],\n",
    "        -const.G*sim.windsoln.Mp/sim.windsoln.soln['r']\n",
    "        +sim.windsoln.soln['sp_grav'][0]\n",
    "        +const.G*sim.windsoln.Mp/sim.windsoln.soln['r'][0],\n",
    "        alpha=0.5, ls='--', c='gray')\n",
    "\n",
    "ax.set_ylabel(r'Bernoulli Constant (erg/cm$^{-3}$)')\n",
    "ax.set_xlabel(r'Radius (R$_p$)')\n",
    "ax.legend()\n",
    "ax.set_title(sim.system.name)\n",
    "fig.tight_layout()"
   ]
  },
  {
   "cell_type": "code",
   "execution_count": null,
   "metadata": {},
   "outputs": [],
   "source": [
    "fig, ax = plt.subplots()\n",
    "# Plot heating rate and temperature as function of column density\n",
    "ax2 = ax.twinx()\n",
    "ax2.plot(np.log10(sim.windsoln.soln['Ncol']), sim.windsoln.soln['heat_ion'],\n",
    "         label = 'Heating Rate', zorder=10)\n",
    "ax.plot(np.log10(sim.windsoln.soln['Ncol']), sim.windsoln.soln['T'],\n",
    "        ls='--', label='Temperature', zorder=10)\n",
    "\n",
    "ax2.set_ylim([ax2.get_ylim()[1]/1e10, ax2.get_ylim()[1]])\n",
    "ax2.set_xlim([ax2.get_xlim()[1], ax2.get_xlim()[0]])\n",
    "ax2.set_yscale('log')\n",
    "# Roughly peak heating a for monochromatic source\n",
    "ax2.axvline(np.log10(3./sim.windsoln.sigma_wl.min()), alpha=0.5, ls=':')\n",
    "sigma_mean = (\n",
    "    (sim.windsoln.sigma_wl*sim.windsoln.wPhi_wl).sum()/sim.windsoln.Phi0\n",
    ")\n",
    "smean = (\n",
    "    integrate.simps(glq.data_norm['phi_wl'][mk]*glq.species_list[0].sigma[mk],\n",
    "                    glq.data_norm['wl'][mk])\n",
    ")\n",
    "ax2.axvline(np.log10(3./smean), alpha=0.5, ls='-.')\n",
    "ax2.axvline(np.log10(5./sigma_mean), alpha=0.5, ls=':')\n",
    "ax.set_xlabel(rf'$\\log_{{10}}$(Ncol)')\n",
    "ax2.set_ylabel(r'Heating Rate [erg/cm$^3$]', rotation=-90, labelpad=30)\n",
    "ax.set_ylabel(r'Temperature [K]')\n",
    "ax2.set_xlim([np.log10(30./sim.windsoln.sigma_wl.min()),\n",
    "             np.log10(sim.windsoln.soln['Ncol'].iloc[-1])])\n",
    "\n",
    "fig.tight_layout(pad=0.3)\n",
    "fig.suptitle('Heating rates and Temperature')\n",
    "fig.subplots_adjust(bottom=0.3, top=0.925)\n",
    "fig.legend(bbox_to_anchor=(0.5, 0.0), loc='lower center', ncol=2);"
   ]
  },
  {
   "cell_type": "code",
   "execution_count": null,
   "metadata": {},
   "outputs": [],
   "source": [
    "fig, ax = plt.subplots()\n",
    "# Plot heating rate and temperature as function of column density\n",
    "ax2 = ax.twinx()\n",
    "ax2.plot(np.log10(sim_100mono.windsoln.soln['Ncol']),\n",
    "         sim_100mono.windsoln.soln['heat_ion'],\n",
    "         label = 'mono Heating Rate', zorder=10)\n",
    "ax2.plot(np.log10(sim_100.windsoln.soln['Ncol']),\n",
    "         sim_100.windsoln.soln['heat_ion'],\n",
    "         label = 'uv Heating Rate', zorder=10)\n",
    "ax.plot(np.log10(sim_100mono.windsoln.soln['Ncol']),\n",
    "        sim_100mono.windsoln.soln['T'],\n",
    "        ls='--', label='mono Temperature', zorder=10)\n",
    "ax.plot(np.log10(sim_100.windsoln.soln['Ncol']),\n",
    "        sim_100.windsoln.soln['T'],\n",
    "        ls='--', label='uv Temperature', zorder=10)\n",
    "\n",
    "ax2.set_ylim([ax2.get_ylim()[1]/1e10, ax2.get_ylim()[1]])\n",
    "ax2.set_xlim([ax2.get_xlim()[1], ax2.get_xlim()[0]])\n",
    "ax2.set_yscale('log')\n",
    "# Roughly peak heating a for monochromatic source\n",
    "# ax2.axvline(np.log10(3./sim_ruth.windsoln.sigma_wl.min()), alpha=0.5, ls=':')\n",
    "ax.set_xlabel(rf'$\\log_{{10}}$(Ncol)')\n",
    "ax2.set_ylabel(r'Heating Rate [erg/cm$^3$]', rotation=-90, labelpad=30)\n",
    "ax.set_ylabel(r'Temperature [K]')\n",
    "# ax2.set_xlim([np.log10(30./sim_20.windsoln.sigma_wl.min()),\n",
    "#              np.log10(sim_20.windsoln.soln['Ncol'].iloc[-1])])\n",
    "\n",
    "fig.tight_layout(pad=0.3)\n",
    "fig.suptitle('Heating rates and Temperature')\n",
    "fig.subplots_adjust(bottom=0.3, top=0.925)\n",
    "fig.legend(bbox_to_anchor=(0.5, 0.0), loc='lower center', ncol=2);"
   ]
  },
  {
   "cell_type": "code",
   "execution_count": null,
   "metadata": {},
   "outputs": [],
   "source": [
    "from scipy.optimize import fsolve\n",
    "\n",
    "def sigma_root(s0, t0, spectrum):\n",
    "    mk = ((spectrum.data_norm['wl']>=spectrum.norm_span[0])\n",
    "          &(spectrum.data_norm['wl']<=spectrum.norm_span[1]))\n",
    "    sigma = spectrum.species_list[0].sigma[mk]/(s0*1e-18)\n",
    "    E_ratio = ((spectrum.data['E'][mk]-const.RyH)\n",
    "               /(const.hc/(spectrum.mono_wl*spectrum.wl_norm)-const.RyH))\n",
    "    phi = spectrum.data_norm['phi_wl_smth'][mk]\n",
    "    I1 = integrate.simps(E_ratio*sigma*phi*np.exp(-t0*(sigma-1)),\n",
    "                         spectrum.data_norm['wl'][mk])\n",
    "    return I1-1.\n",
    "\n",
    "def d_sigma_root(s0, t0, spectrum):\n",
    "    mk = ((spectrum.data_norm['wl']>=spectrum.norm_span[0])\n",
    "          &(spectrum.data_norm['wl']<=spectrum.norm_span[1]))\n",
    "    sigma = spectrum.species_list[0].sigma[mk]/(s0*1e-18)\n",
    "    E_ratio = ((spectrum.data['E'][mk]-const.RyH)\n",
    "               /(const.hc/(spectrum.mono_wl*spectrum.wl_norm)-const.RyH))\n",
    "    phi = spectrum.data_norm['phi_wl_smth'][mk]\n",
    "    I1 = integrate.simps(E_ratio*sigma*phi*np.exp(-t0*(sigma-1)),\n",
    "                         spectrum.data_norm['wl'][mk])\n",
    "    dI1 = I1/s0*(t0-1)\n",
    "    return dI1\n",
    "\n",
    "fsolve(sigma_root, 1e-1, args=(3, my_sim.spectrum), factor=.1, xtol=1e-20)*1e-18"
   ]
  },
  {
   "cell_type": "code",
   "execution_count": null,
   "metadata": {},
   "outputs": [],
   "source": [
    "my_sim = sim_40\n",
    "fig, ax = plt.subplots()\n",
    "# Plot heating rate and temperature as function of column density\n",
    "ax2 = ax.twinx()\n",
    "ax2.plot(np.log10(my_sim.windsoln.soln['Ncol']),\n",
    "         my_sim.windsoln.soln['heat_ion'],\n",
    "         label = 'Heating Rate', zorder=10)\n",
    "ax.plot(np.log10(my_sim.windsoln.soln['Ncol']),\n",
    "        my_sim.windsoln.soln['T'],\n",
    "        ls='--', label='Temperature', zorder=10)\n",
    "\n",
    "ax2.set_ylim([ax2.get_ylim()[1]/1e10, ax2.get_ylim()[1]])\n",
    "ax2.set_xlim([ax2.get_xlim()[1], ax2.get_xlim()[0]])\n",
    "ax2.set_yscale('log')\n",
    "# Roughly peak heating a for monochromatic source\n",
    "ax2.axvline(np.log10(3./my_sim.windsoln.sigma_wl.min()), alpha=0.5, ls=':')\n",
    "sigma_mean = (\n",
    "    (my_sim.windsoln.sigma_wl*my_sim.windsoln.wPhi_wl).sum()\n",
    "    /my_sim.windsoln.Phi0\n",
    ")\n",
    "glq = my_sim.spectrum.glq_spectrum\n",
    "mk = ((glq.data_norm['wl']<=my_sim.spectrum.rslv_span[-1])\n",
    "      &(glq.data_norm['wl']>=my_sim.spectrum.rslv_span[0]))\n",
    "smean = (\n",
    "    integrate.simps(glq.data_norm['phi_wl'][mk]*glq.species_list[0].sigma[mk],\n",
    "                    glq.data_norm['wl'][mk])\n",
    ")\n",
    "mysig = fsolve(sigma_root, 1e-1, args=(3, my_sim.spectrum),\n",
    "               fprime=d_sigma_root, factor=.1, xtol=1e-20)*1e-18\n",
    "ax2.axvline(np.log10(3./smean), alpha=0.5, ls='-.')\n",
    "ax2.axvline(np.log10(3./sigma_mean), alpha=0.5, ls='-')\n",
    "ax2.axvline(np.log10(3./mysig), alpha=0.5, ls='-', c='r')\n",
    "ax.set_xlabel(rf'$\\log_{{10}}$(Ncol)')\n",
    "ax2.set_ylabel(r'Heating Rate [erg/cm$^3$]', rotation=-90, labelpad=30)\n",
    "ax.set_ylabel(r'Temperature [K]')\n",
    "ax2.set_xlim([np.log10(30./my_sim.windsoln.sigma_wl.min()),\n",
    "             np.log10(sim.windsoln.soln['Ncol'].iloc[-1])])\n",
    "\n",
    "fig.tight_layout(pad=0.3)\n",
    "fig.suptitle('Heating rates and Temperature')\n",
    "fig.subplots_adjust(bottom=0.3, top=0.925)\n",
    "fig.legend(bbox_to_anchor=(0.5, 0.0), loc='lower center', ncol=2);"
   ]
  }
 ],
 "metadata": {
  "kernelspec": {
   "display_name": "Python 3 (ipykernel)",
   "language": "python",
   "name": "python3"
  },
  "language_info": {
   "codemirror_mode": {
    "name": "ipython",
    "version": 3
   },
   "file_extension": ".py",
   "mimetype": "text/x-python",
   "name": "python",
   "nbconvert_exporter": "python",
   "pygments_lexer": "ipython3",
   "version": "3.9.12"
  }
 },
 "nbformat": 4,
 "nbformat_minor": 4
}
