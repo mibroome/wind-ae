{
 "cells": [
  {
   "cell_type": "code",
   "execution_count": 2,
   "id": "b2b1b208",
   "metadata": {
    "ExecuteTime": {
     "end_time": "2024-06-26T09:48:13.909642Z",
     "start_time": "2024-06-26T09:48:13.444033Z"
    }
   },
   "outputs": [],
   "source": [
    "#use Jupyter cell magic to load all of the relevant modules\n",
    "%run ../wrapper/imports.py\n",
    "%config InlineBackend.figure_format='retina'"
   ]
  },
  {
   "cell_type": "markdown",
   "id": "5c505ccc",
   "metadata": {},
   "source": [
    "### Load Planet\n",
    "Load initial guess from which the relaxation code will ramp to your desired parameters. `expedite=False` takes the time to compute all of the post-facto variables. This is not necessary to run the ramping."
   ]
  },
  {
   "cell_type": "code",
   "execution_count": 3,
   "id": "cd1a42ea",
   "metadata": {
    "ExecuteTime": {
     "end_time": "2024-06-26T09:51:37.234774Z",
     "start_time": "2024-06-26T09:51:19.766428Z"
    }
   },
   "outputs": [
    {
     "name": "stdout",
     "output_type": "stream",
     "text": [
      "Nspecies has changed from 2 to 1. Remaking C code...                                                                                      Atmosphere Composition\n",
      "  Species:   HI\n",
      "  Mass frac: 1.00e+00\n",
      "Loaded Planet:\n",
      "  System parameters (cgs)               # Normalized units\n",
      "    Mp:        1.330000e+30 g           #     0.70 MJ\n",
      "    Rp:        1.000000e+10 cm          #     1.40 RJ\n",
      "    Mstar:     1.988416e+33 g           #     1.00 Msun\n",
      "    semimajor: 7.480000e+11 cm          #     0.05 au\n",
      "    Ftot:      1.095713e+03 erg/cm^2/s  # 2.35e+02 FuvEarth\n",
      "    Lstar:     6.807420e+33 erg/s       # 1.78e+00 Lsun\n",
      "\n"
     ]
    }
   ],
   "source": [
    "sim = wind_sim()\n",
    "sim.load_planet('saves/start_HotJupiter_H-He.csv',expedite=False)\n",
    "sim.system.print_system()"
   ]
  },
  {
   "cell_type": "markdown",
   "id": "c49b080b",
   "metadata": {},
   "source": [
    "### Define a system to ramp to"
   ]
  },
  {
   "cell_type": "code",
   "execution_count": null,
   "id": "ddc95d06",
   "metadata": {},
   "outputs": [],
   "source": [
    "HD"
   ]
  }
 ],
 "metadata": {
  "kernelspec": {
   "display_name": "Python 3 (ipykernel)",
   "language": "python",
   "name": "python3"
  },
  "language_info": {
   "codemirror_mode": {
    "name": "ipython",
    "version": 3
   },
   "file_extension": ".py",
   "mimetype": "text/x-python",
   "name": "python",
   "nbconvert_exporter": "python",
   "pygments_lexer": "ipython3",
   "version": "3.9.12"
  }
 },
 "nbformat": 4,
 "nbformat_minor": 5
}
