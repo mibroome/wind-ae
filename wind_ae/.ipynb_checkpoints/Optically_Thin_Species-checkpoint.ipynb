{
 "cells": [
  {
   "cell_type": "code",
   "execution_count": 1,
   "metadata": {},
   "outputs": [],
   "source": [
    "import numpy as np\n",
    "\n",
    "# %cd -q ..\n",
    "\n",
    "import McAstro.utils.constants as const\n",
    "from McAstro.atoms.atomic_species import *\n",
    "\n",
    "import matplotlib.pyplot as plt\n",
    "%matplotlib inline"
   ]
  },
  {
   "cell_type": "code",
   "execution_count": 2,
   "metadata": {},
   "outputs": [],
   "source": [
    "_Zelem = {'H':1, 'He':2, 'Li':3, 'Be':4, 'B':5, 'C':6, 'N':7,\n",
    "              'O':8, 'F':9,'Ne':10, 'Na':11, 'Mg':12, 'Al':13,\n",
    "              'Si':14, 'S':16, 'Ar':18, 'Ca':20, 'Fe':26}\n",
    "\n",
    "class element:\n",
    "    def __init__(self, name, ppm=None, E_th=None):\n",
    "        self.name = name\n",
    "        self.ppm = ppm\n",
    "        self.E_th = E_th\n",
    "        self.Z = _Zelem[name]\n",
    "        self.absorbers = [None,]*(self.Z)\n",
    "        for i in range(self.Z):\n",
    "            self.absorbers[i] = atomic_species(self.name+' '\n",
    "                                               +arabic_to_roman(i+1))\n",
    "        if E_th is not None:\n",
    "            for absorber in self.absorbers:\n",
    "                if absorber.verner_data['E_th'] < E_th:\n",
    "                    self.absorbers.remove(absorber)\n",
    "                    \n",
    "                    \n",
    "    def get_max_sigma(self, hnu):\n",
    "        self.max_sigma = np.zeros(len(hnu))\n",
    "        for absorber in self.absorbers:\n",
    "            self.max_sigma = np.maximum.reduce(\n",
    "                [self.max_sigma, absorber.cross_section(hnu, valid_range=False)]\n",
    "            )"
   ]
  },
  {
   "cell_type": "code",
   "execution_count": null,
   "metadata": {},
   "outputs": [],
   "source": [
    "# solar elements above 100 ppm\n",
    "H_ppm = 909964\n",
    "He_ppm = 88714\n",
    "O_ppm = 477\n",
    "C_ppm = 326\n",
    "N_ppm = 102\n",
    "Ne_ppm = 100\n",
    "\n",
    "hydrogen = element('H', ppm=H_ppm)\n",
    "E_th = hydrogen.absorbers[0].verner_data['E_th']\n",
    "helium = element('He', ppm=He_ppm, E_th=E_th)\n",
    "oxygen = element('O', ppm=O_ppm, E_th=E_th)\n",
    "carbon = element('C', ppm=C_ppm, E_th=E_th)\n",
    "nitrogen = element('N', ppm=N_ppm, E_th=E_th)\n",
    "neon = element('Ne', ppm=Ne_ppm, E_th=E_th)\n",
    "\n",
    "solar_elements = [hydrogen, helium, oxygen, carbon, nitrogen, neon]"
   ]
  },
  {
   "cell_type": "code",
   "execution_count": 8,
   "metadata": {},
   "outputs": [],
   "source": [
    "hnu = np.linspace(E_th, 1e3, 1024)\n",
    "wl = const.hc/(const.eV*hnu)\n",
    "for elm in solar_elements:\n",
    "    elm.get_max_sigma(hnu)"
   ]
  },
  {
   "cell_type": "code",
   "execution_count": 9,
   "metadata": {},
   "outputs": [
    {
     "data": {
      "image/png": "[encoded data removed]",
      "text/plain": [
       "<Figure size 432x288 with 1 Axes>"
      ]
     },
     "metadata": {
      "needs_background": "light"
     },
     "output_type": "display_data"
    }
   ],
   "source": [
    "fig, ax = plt.subplots()\n",
    "\n",
    "norm = hydrogen.ppm*hydrogen.max_sigma\n",
    "# Ntot = 1e6/(norm)\n",
    "# axB = ax.twinx()\n",
    "# axB.plot(hnu, Ntot, '--')\n",
    "# axB.set_yscale('log')\n",
    "\n",
    "for elm in solar_elements:\n",
    "    l = elm.ppm*elm.max_sigma/norm\n",
    "    l[l==0] = np.nan\n",
    "    ax.plot(wl*1e7, l, label=elm.name)\n",
    "\n",
    "ax.legend()\n",
    "# ax.set_xscale('log')\n",
    "ax.set_yscale('log')\n",
    "ax.set_ylabel(r'$X_E \\sigma_{\\nu,E}^{max}/X_H \\sigma_{\\nu,H}$')\n",
    "ax.set_xlabel('Wavelength (nm)')\n",
    "ax.set_xlim([10, 90])\n",
    "fig.tight_layout()"
   ]
  }
 ],
 "metadata": {
  "kernelspec": {
   "display_name": "Python 3",
   "language": "python",
   "name": "python3"
  },
  "language_info": {
   "codemirror_mode": {
    "name": "ipython",
    "version": 3
   },
   "file_extension": ".py",
   "mimetype": "text/x-python",
   "name": "python",
   "nbconvert_exporter": "python",
   "pygments_lexer": "ipython3",
   "version": "3.8.3"
  }
 },
 "nbformat": 4,
 "nbformat_minor": 4
}
