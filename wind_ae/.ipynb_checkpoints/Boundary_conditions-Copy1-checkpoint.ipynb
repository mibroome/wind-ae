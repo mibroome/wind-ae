{
 "cells": [
  {
   "cell_type": "code",
   "execution_count": 5,
   "id": "9470ff11",
   "metadata": {},
   "outputs": [
    {
     "name": "stdout",
     "output_type": "stream",
     "text": [
      "Atmosphere Composition\n",
      "  Species:   HI\n",
      "  Mass frac: 1.00e+00\n",
      "101767436.9002\n"
     ]
    }
   ],
   "source": [
    "sim = wind_sim()\n",
    "# sim.load_planet('saves/HD209458b_10-8000eV_H_done.csv')\n",
    "sim.load_planet('saves/windsoln.csv')\n",
    "# sim.load_planet('saves/start_HD.csv')\n",
    "var = sim.windsoln\n",
    "print(\"%.2e\" %var.rho_rmin)\n",
    "r = var.soln_norm['r']"
   ]
  },
  {
   "cell_type": "code",
   "execution_count": 30,
   "id": "9a80241f",
   "metadata": {},
   "outputs": [
    {
     "name": "stdout",
     "output_type": "stream",
     "text": [
      "(1.1, 6.854466195381, 1721035160.54032, 0.14373809065709436)\n"
     ]
    }
   ],
   "source": [
    "def base_bcs(var,molec_adjust=2.3,Kappa_opt=4e-3,Kappa_IR=1e-2,adiabat=False): \n",
    "    ''' Sets base of simulation below XUV tau=1 surface and assumes bolometric \n",
    "    heating & cooling of molecules dominates there.\n",
    "    \n",
    "    Computes the density and temperature at either Rp (optical transit radius) \n",
    "    or R_IR (vertical tau=1 surface to IR radiation - between this radius and the\n",
    "    nanobar radius where wind is launched, the temperature profile is an isotherm\n",
    "    at the skin temperature). If R_IR is below Rp, it takes Rp to be the base of\n",
    "    the simulation.\n",
    "    \n",
    "    Assumes that Rp is the slant path optical tau = 1 surface.      \n",
    "    Computes skin temperature by balancing bolometric heating and cooling.\n",
    "    Computes effective temperature from stellar bolometric luminosity. For highly\n",
    "    irradiated planets (most planets for which atmo escape is significant), it is\n",
    "    an isotherm at T_eff=L_star/(16*pi*sigma_sb*a^2) between R_IR and Rp. \n",
    "    If adiabat = True, it computes the R_IR assuming an adiabat between T_eff and \n",
    "    T_skin.\n",
    "    \n",
    "    For high metallicity atmospheres, users should increase the molecular adjustment\n",
    "    factor (molec_adjust). Likewise, they should change Kappa_opt and Kappa_IR.\n",
    "    \n",
    "    Parameters:\n",
    "        molec_adjust - float; default=2.3. Accounts for increased mean weight of molecules\n",
    "        Kappa_opt    - float; default=4e-3. Optical opacity\n",
    "        Kappa_IR     - float; default=1e-2. IR opacity\n",
    "        adiabt       - Bool; default=False. If true, computes IR BCs assuming an adiabat\n",
    "    \n",
    "    Returns:\n",
    "         R - float; radius at base of simulation in units of Rp\n",
    "         Rmax - float; set by original boundary conditions, units of Rp\n",
    "         rho - float; density in units of RHO0 from defs.h (1e-15 ~nBAR*MH/K/T0)\n",
    "         T - float; effective temperature in units of T0 (1e4 K)\n",
    "         \n",
    "         \n",
    "    If R_IR > Rp:\n",
    "        Returns: R_IR, Rmax, rho_IR, T_eff\n",
    "    Else:\n",
    "        Returns: Rp, Rmax, rho_Rp, T_skin\n",
    "    '''\n",
    "    Rp = var.Rp\n",
    "    if molec_adjust <= 1:\n",
    "        print(\"WARNING: Molecular adjustment factor should be >1 to account for increased\",\n",
    "              \"mean weight due to molecules, instead of atoms, lower in atmosphere (below the wind).\")\n",
    "    F_opt = var.Lstar/(4*np.pi*var.semimajor**2)\n",
    "    T_skin = (F_opt*(Kappa_opt+Kappa_IR/4)/(2*const.sig_SB*Kappa_IR))**0.25\n",
    "    T_eff = (F_opt/(4*const.sig_SB))**0.25\n",
    "    mu = molec_adjust*const.mH/np.sum(var.atomic_masses[0]*var.HX/var.atomic_masses) #assuming no ionized\n",
    "    #rho_Rp derived from optical slant path tau=1 geometry\n",
    "    rho_Rp = np.sqrt(mu*const.G*var.Mp / (8 * Rp**3 *const.kB*T_skin)) / Kappa_opt \n",
    "    P_Rp = rho_Rp*const.kB*T_skin / mu\n",
    "    \n",
    "    if adiabat == True:\n",
    "        G = const.G\n",
    "        kB = const.kB\n",
    "        denom = (7/2)*(kB*T_eff/mu) * ( 1 - (2*Kappa_opt/Kappa_IR + 1/2)**0.25 ) + G*var.Mp/Rp\n",
    "        R_IR = G*var.Mp / denom\n",
    "        Kappa_term =  (2*Kappa_opt/Kappa_IR+1/2)**(-6/8)/Kappa_opt\n",
    "        rho_IR = np.sqrt( mu*G*var.Mp / (8*Rp**3 * kB*T_eff) ) * Kappa_term\n",
    "    else:\n",
    "        Hsc = const.kB*T_eff*(Rp**2) /(mu*const.G*var.Mp) #scaleheight at Rp (approximately Hsc at R_IR)\n",
    "        rho_IR = 1/(Kappa_IR*Hsc)\n",
    "        # R_IR = rho_Rp*np.exp(-Rp/Hsc)\n",
    "        R_IR = Rp**2 /( Hsc * np.log(rho_IR/rho_Rp*np.exp(Rp/Hsc)) )\n",
    "    if R_IR > Rp:\n",
    "        return R_IR/Rp,var.Rmax,rho_IR/1e-15,T_eff/1e4\n",
    "    else:\n",
    "        return Rp/Rp,var.Rmax,rho_Rp/1e-15,T_skin/1e4\n",
    "# Rrho_Rp,T_Rp,P = rho_at_Rp(var)\n",
    "rp,rmax,rho,t = base_bcs(var)\n",
    "print(base_bcs(var))"
   ]
  },
  {
   "cell_type": "code",
   "execution_count": 8,
   "id": "ecf6f0af",
   "metadata": {},
   "outputs": [
    {
     "name": "stdout",
     "output_type": "stream",
     "text": [
      "Scaleheight  0.0058 Rp\n",
      "rho_IR       1.72e+09 g cm-3\n",
      "R_IR         0.98 Rp\n"
     ]
    }
   ],
   "source": [
    "Kappa_IR = 1e-2\n",
    "Kappa_opt = 4e-3\n",
    "mu = 2.3*const.mH\n",
    "\n",
    "F_opt = var.Lstar/(4*np.pi*var.semimajor**2) #optical flux at planet\n",
    "T_skin = (F_opt*(Kappa_opt+Kappa_IR/4)/(2*const.sig_SB*Kappa_IR))**0.25\n",
    "T_eff = (F_opt/(4*const.sig_SB))**0.25\n",
    "rho_Rp = np.sqrt(mu*const.G*var.Mp / (8 * var.Rp**3 *const.kB*T_eff)) / Kappa_opt\n",
    "Hsc = const.kB*T_eff*(var.Rp**2) /(mu*const.G*var.Mp) #scaleheight at Rp (check that this is self consist.)\n",
    "\n",
    "rho_IR = 1/(Kappa_IR*Hsc)\n",
    "print('Scaleheight  %.4f Rp' %(Hsc/var.Rp) )\n",
    "print('rho_IR       %.2e g cm-3' %(rho_IR/1e-15))\n",
    "# R_IR = rho_Rp*np.exp(-var.Rp/Hsc)\n",
    "R_IR = var.Rp**2 /( Hsc * np.log(rho_IR/rho_Rp*np.exp(var.Rp/Hsc)) )\n",
    "# # RH = var.Rp/Hsc\n",
    "# # R_IR = var.Rp*RH * np.log( (Kappa_opt/Kappa_IR) * mu**0.5 *np.sqrt(8*RH) * np.exp(RH) )\n",
    "print('R_IR         %.2f Rp' %(R_IR/var.Rp))"
   ]
  },
  {
   "cell_type": "code",
   "execution_count": 9,
   "id": "ef8cecc4",
   "metadata": {},
   "outputs": [],
   "source": [
    "from scipy.optimize import fsolve"
   ]
  },
  {
   "cell_type": "code",
   "execution_count": 18,
   "id": "a025b995",
   "metadata": {},
   "outputs": [
    {
     "name": "stdout",
     "output_type": "stream",
     "text": [
      "100\n"
     ]
    }
   ],
   "source": [
    "f = open('src/defs.h', 'r') #changing Nspecies and remaking C code\n",
    "# thing = f.readlines()[10]\n",
    "# print(thing.split())\n",
    "for line in f.readlines():\n",
    "    splitline = line.split()\n",
    "    if len(splitline) >= 2:\n",
    "        line_var = splitline[0]+' '+splitline[1]\n",
    "    if line_var == '#define NSPECIES':\n",
    "        nspecies_def = int(line.split()[2]) \n",
    "    elif line_var == '#define M':\n",
    "        og_length = int(line.split()[2]) \n",
    "    elif line_var == '#define RHOSCALE':\n",
    "        og_RHOSCALE = float(line.split()[2])\n",
    "f.close()"
   ]
  },
  {
   "cell_type": "code",
   "execution_count": 4,
   "id": "f6fb0a9e",
   "metadata": {},
   "outputs": [
    {
     "data": {
      "text/plain": [
       "7.0"
      ]
     },
     "execution_count": 4,
     "metadata": {},
     "output_type": "execute_result"
    }
   ],
   "source": [
    "np.floor(np.log10(9e7))"
   ]
  },
  {
   "cell_type": "code",
   "execution_count": 10,
   "id": "21d793e9",
   "metadata": {},
   "outputs": [
    {
     "name": "stdout",
     "output_type": "stream",
     "text": [
      "5.810456537599439e-13\n",
      "172.10351605403199\n",
      "None\n",
      "1.8046486525692913e-75\n",
      "inf\n"
     ]
    }
   ],
   "source": [
    "def func(R_IR):\n",
    "    kbtmug = const.kB*T_eff/(mu*const.G*var.Mp)\n",
    "    print(kbtmug)\n",
    "    C = Kappa_IR*rho_Rp*kbtmug*np.exp(-var.Rp/Hsc)\n",
    "    print(print(var.Rp/Hsc))\n",
    "    print(np.exp(-var.Rp/Hsc))\n",
    "    func = C* R_IR**2 * np.exp( var.Rp**2 / (Hsc*R_IR) )\n",
    "    return func-1\n",
    "\n",
    "print(func(1.1))\n",
    "# fsolve(func,1)"
   ]
  },
  {
   "cell_type": "code",
   "execution_count": 8,
   "id": "f49c4b76",
   "metadata": {},
   "outputs": [
    {
     "name": "stdout",
     "output_type": "stream",
     "text": [
      "(1.0013805206183002, 6.854466195381, 95242847.78635406, 0.14373809065709436)\n",
      "1.0013805206183002\n"
     ]
    }
   ],
   "source": [
    "# def rho_at_R_ir(var, mu=2.3*const.mH, Kappa_opt=4e-3, Kappa_IR=1e-2):  \n",
    "#     '''Temperature, radius, and density at infrared tau=1 surface for a given planet.\n",
    "#     Sets base of simulation below XUV tau=1 surface and assumes bolometric heating &\n",
    "#     cooling dominate there and that temperature between the optical and IR radii is an\n",
    "#     adiabat for a polytrope with index 7/5 (because atmosphere is molecular there).\n",
    "    \n",
    "#     Parameters:\n",
    "#         mu - float; mean molecular weight at the IR surface (default=2.3mH)\n",
    "#         Kappa_opt - float; optical opacity (default=4e-3)\n",
    "#         Kappa_IR  - float; IR opacity (default=1e-2)\n",
    "#     Returns:\n",
    "#         R_IR - float; radius of IR tau=1 surface in units of Rp\n",
    "#         Rmax - float; set by original boundary conditions, units of Rp\n",
    "#         rho_IR - float; density in units of RHO0 from defs.h (1e-15 ~nBAR*MH/K/T0)\n",
    "#         T_eff - float; effective temperature in units of T0 (1e4 K)\n",
    "    \n",
    "#     '''\n",
    "    G = const.G\n",
    "    kB = const.kB\n",
    "\n",
    "    T_eff = ( var.Lstar / (const.sig_SB*16*np.pi*var.semimajor**2) )**0.25\n",
    "    denom = (7/2)*(kB*T_eff/mu) * ( 1 - (2*Kappa_opt/Kappa_IR + 1/2)**0.25 ) + G*var.Mp/var.Rp\n",
    "    R_IR = G*var.Mp / denom\n",
    "    Kappa_term =  (2*Kappa_opt/Kappa_IR+1/2)**(-6/8)/Kappa_opt\n",
    "    rho_IR = np.sqrt( mu*G*var.Mp / (8*var.Rp**3 * kB*T_eff) ) * Kappa_term\n",
    "    \n",
    "    return R_IR/var.Rp, var.Rmax, rho_IR/1e-15,T_eff/1e4\n",
    "#     return R_IR/var.Rp, var.Rmax, rho_IR/self.windsoln.scales[2],T_eff/self.windsoln.scales[3]\n",
    "# print(rho_at_R_ir(var,2.3*const.mH))\n",
    "\n",
    "# start_bcs = var.bcs_tuple\n",
    "# goal_bcs = start_bcs.copy()\n",
    "# goal_bcs[0:4] = rho_at_R_ir(var)\n",
    "# print(goal_bcs[0])"
   ]
  },
  {
   "cell_type": "code",
   "execution_count": 37,
   "id": "761864c6",
   "metadata": {},
   "outputs": [
    {
     "name": "stdout",
     "output_type": "stream",
     "text": [
      "1.0013805206183002\n"
     ]
    }
   ],
   "source": [
    "#ramping to the bcs\n",
    "start_bcs = var.bcs_tuple\n",
    "goal_bcs = start_bcs.copy()\n",
    "goal_bcs[0:4] = rho_at_R_ir(var)\n",
    "print(goal_bcs[0])\n",
    "\n",
    "#Rmin first\n",
    "def ramp_Rmin(goal_Rmin):\n",
    "    while (abs(1.-sim.windsoln.Rmin/goal_Rmin) > 1e-10):\n",
    "        bcs_tuple = sim.windsoln.bcs_tuple\n",
    "        bcs_tuple[0] = goal_Rmin\n",
    "        sim.inputs.write_planet_params(*sim.windsoln.planet_tuple)\n",
    "        sim.inputs.write_bcs(*bcs_tuple)\n",
    "        failed = 0\n",
    "        print(f'\\r..Rmin {sim.windsoln.Rmin:.5g}, goal {goal_Rmin:.5g}',\n",
    "              end=\"                                                   \")\n",
    "        while sim.run_wind(expedite=True) == 1:\n",
    "            failed += 1\n",
    "            delta = (bcs_tuple[0]-sim.windsoln.Rmin)/10\n",
    "            bcs_tuple[0] = sim.windsoln.Rmin+delta\n",
    "            sim.inputs.write_bcs(*bcs_tuple)\n",
    "            print(f'\\r..Rmin {sim.windsoln.Rmin:.5g}, '\n",
    "                  f'try {bcs_tuple[0]:.5g}',\n",
    "                  end=\"                                               \")\n",
    "            if failed > 15:\n",
    "                print(\"\\nStruggling to substep towards new Rmin\")\n",
    "                return 1  \n",
    "    print(f\"\\rSucessfully converged Rmin to {sim.windsoln.Rmin:e} Rp\",\n",
    "          end =\"                                                       \")\n",
    "    return 2"
   ]
  },
  {
   "cell_type": "code",
   "execution_count": 38,
   "id": "f2575cec",
   "metadata": {},
   "outputs": [
    {
     "name": "stdout",
     "output_type": "stream",
     "text": [
      "[1.001380520618, 6.854466195381, 55592510.84045, 0.1534, array([1.]), array([0.11122698])]\n"
     ]
    }
   ],
   "source": [
    "print(sim.windsoln.bcs_tuple)\n"
   ]
  },
  {
   "cell_type": "code",
   "execution_count": 39,
   "id": "0493f798",
   "metadata": {},
   "outputs": [
    {
     "name": "stdout",
     "output_type": "stream",
     "text": [
      "\r",
      "Sucessfully converged Rmin to 1.001381e+00 Rp                                                       CPU times: user 604 µs, sys: 252 µs, total: 856 µs\n",
      "Wall time: 1.06 ms\n"
     ]
    },
    {
     "data": {
      "text/plain": [
       "2"
      ]
     },
     "execution_count": 39,
     "metadata": {},
     "output_type": "execute_result"
    }
   ],
   "source": [
    "%%time #8 minutes with stepsize=/2; 6 with /10\n",
    "ramp_Rmin(goal_bcs[0])"
   ]
  },
  {
   "cell_type": "code",
   "execution_count": 64,
   "id": "bacb5eeb",
   "metadata": {},
   "outputs": [],
   "source": [
    "def ramp_T_rmin(goal_T):\n",
    "    \"\"\"\n",
    "    Description:\n",
    "        T_rmin is could be contrived to be related to the stellar mass\n",
    "        and orbital seperation, however, we leave it as a free parameter\n",
    "        for the end user to set by hand and therefore is not part of the\n",
    "        scheme for converging boundaries. Thus this function stands\n",
    "        alone but will converge the other boundaries after it has been\n",
    "        updated to polish the solution.\n",
    "\n",
    "    Inputs:\n",
    "        goal_T - float; goal temperature at R_IR in K. Usually assumed to be T_eff.\n",
    "    \"\"\"\n",
    "    goal_T /= 1e4 \n",
    "    failed = 0\n",
    "    while (abs(1.-sim.windsoln.T_rmin/goal_T) > 1e-10):\n",
    "#         bcs_tuple = sim.windsoln.bcs_tuple\n",
    "        if failed > 2:\n",
    "            bcs_tuple = sim.windsoln.bcs_tuple\n",
    "            bcs_tuple[3] = goal_T\n",
    "#             print(f'..Proceeding with smaller stepsize {(10**failed):.5g}',\n",
    "#                   end=\"                                                                \")\n",
    "            bcs_tuple[3] = sim.windsoln.T_rmin+(bcs_tuple[3]-sim.windsoln.T_rmin)/(10**failed) #here\n",
    "            sim.inputs.write_bcs(*bcs_tuple)\n",
    "            print(f'\\r..Proceeding with smaller stepsize: T_rmin {sim.windsoln.T_rmin:.5g}, goal {goal_T:.5g}',\n",
    "                  end=\"                                                   \")\n",
    "            fail2 = 0\n",
    "            while sim.run_wind(expedite=True) == 1:\n",
    "                fail2 += 1\n",
    "                delta_T = (bcs_tuple[3]-sim.windsoln.T_rmin)/10**(failed+fail2)\n",
    "                bcs_tuple[3] = sim.windsoln.T_rmin+delta_T\n",
    "                sim.inputs.write_bcs(*bcs_tuple)\n",
    "                print(f'\\r..Attempt {failed:d}: T_rmin {sim.windsoln.T_rmin:.5g}, '\n",
    "                      f'try {bcs_tuple[3]:.5g}',\n",
    "                      end=\"                                               \")\n",
    "                if fail2 > 15:\n",
    "                    print(\"\\nStruggling to substep towards new T_rmin\")\n",
    "                    return 1\n",
    "        else:\n",
    "            bcs_tuple = sim.windsoln.bcs_tuple\n",
    "            bcs_tuple[3] = goal_T\n",
    "            sim.inputs.write_bcs(*bcs_tuple)\n",
    "            failed = 0\n",
    "            print(f'\\r..T_rmin {sim.windsoln.T_rmin:.5g}, goal {goal_T:.5g}',\n",
    "                  end=\"                                                   \")\n",
    "            \n",
    "            while sim.run_wind(expedite=True) == 1:\n",
    "                failed += 1\n",
    "                delta_T = (bcs_tuple[3]-sim.windsoln.T_rmin)/10\n",
    "                bcs_tuple[3] = sim.windsoln.T_rmin+delta_T\n",
    "                sim.inputs.write_bcs(*bcs_tuple)\n",
    "                print(f'\\r..Attempt {failed:d}: T_rmin {sim.windsoln.T_rmin:.5g}, '\n",
    "                      f'try {bcs_tuple[3]:.5g}',\n",
    "                      end=\"                                               \")\n",
    "                if failed > 15:\n",
    "                    print(\"\\nStruggling to substep towards new T_rmin\")\n",
    "                    return 1\n",
    "    print(f\"\\rSucessfully converged T_rmin to {sim.windsoln.T_rmin:e}\",\n",
    "          end=\"                                                       \")\n",
    "    return 0"
   ]
  },
  {
   "cell_type": "code",
   "execution_count": null,
   "id": "0afbf919",
   "metadata": {},
   "outputs": [],
   "source": [
    "%%time\n",
    "ramp_T_rmin(goal_bcs[3]*1e4)"
   ]
  },
  {
   "cell_type": "code",
   "execution_count": 6,
   "id": "88c690d9",
   "metadata": {},
   "outputs": [],
   "source": [
    "def ramp_rho_rmin(goal_rho):\n",
    "    \"\"\"\n",
    "\n",
    "    \"\"\"\n",
    "    failed = 0\n",
    "    count = 0\n",
    "    while (abs(1.-sim.windsoln.rho_rmin/goal_rho) > 1e-10):\n",
    "#         count+=1 #regrids every 50 rounds of iterations\n",
    "#         if count%100==0:\n",
    "#             sim.load_uservars('saves/windsoln.csv')\n",
    "#             rewrite_guess(sim.windsoln,regrid=True)\n",
    "#             print(f'\\r..Regridding after 100 iterations',\n",
    "#                   end=\"                                                   \")\n",
    "#             failed = 0\n",
    "        retry = 0\n",
    "        if failed > 2: #If fails more than 2 times, it typically means to stepsize is too big.\n",
    "            #It will then proceed a consistently smaller stepsize (so it does not waste time trying too big of steps)\n",
    "            bcs_tuple = sim.windsoln.bcs_tuple\n",
    "            bcs_tuple[2] = goal_rho\n",
    "            bcs_tuple[2] = sim.windsoln.rho_rmin+(bcs_tuple[2]-sim.windsoln.rho_rmin)/(10**failed) \n",
    "            sim.inputs.write_bcs(*bcs_tuple)\n",
    "            print(f'\\r..Proceeding with smaller stepsize: rho_rmin {sim.windsoln.rho_rmin:.5g}, goal {goal_rho:.5g}',\n",
    "                  end=\"                                                   \")\n",
    "            fail2 = 0\n",
    "            while sim.run_wind(expedite=True) == 1: #In case it still fails, will take even smaller steps\n",
    "                #but it will reset to the slightly larger step on the next round. \n",
    "                fail2 += 1\n",
    "                delta_rho = (bcs_tuple[2]-sim.windsoln.rho_rmin)/10**(failed+fail2)\n",
    "                bcs_tuple[2] = sim.windsoln.rho_rmin+delta_rho\n",
    "                sim.inputs.write_bcs(*bcs_tuple)\n",
    "                print(f'\\r..Attempt {failed:d}: rho_rmin {sim.windsoln.rho_rmin:.5g}, '\n",
    "                      f'try {bcs_tuple[2]:.5g}',\n",
    "                      end=\"                                               \")\n",
    "                if fail2 > 15:\n",
    "                    retry+=1\n",
    "                    if retry == 1:\n",
    "                        sim.load_uservars('saves/windsoln.csv')\n",
    "                        rewrite_guess(sim.windsoln,regrid=True)\n",
    "                        sim.load_planet('inputs/guess.inp')\n",
    "                        print(f'\\r..Regridding after failure {failed:d}',\n",
    "                              end=\"                                                   \")  \n",
    "                        return 0\n",
    "                    elif retry>1:\n",
    "                        print(\"\\nStruggling to substep towards new rho_rmin\")\n",
    "                        return 1\n",
    "        else: #this is where the relaxation routine is first run, it only proceeds to the above if it fails.\n",
    "            bcs_tuple = sim.windsoln.bcs_tuple\n",
    "            bcs_tuple[2] = goal_rho\n",
    "            sim.inputs.write_bcs(*bcs_tuple)\n",
    "            failed = 0\n",
    "            print(f'\\r..rho_rmin {sim.windsoln.rho_rmin:.5g}, goal {goal_rho:.5g}',\n",
    "                  end=\"                                                   \") #always tries to step directly there\n",
    "            \n",
    "            while sim.run_wind(expedite=True) == 1:\n",
    "                failed += 1\n",
    "                delta_rho = (bcs_tuple[2]-sim.windsoln.rho_rmin)/10 #takes steps 10x smaller each iteration.\n",
    "                bcs_tuple[2] = sim.windsoln.rho_rmin+delta_rho\n",
    "                sim.inputs.write_bcs(*bcs_tuple)\n",
    "                print(f'\\r..Attempt {failed:d}: rho_rmin {sim.windsoln.rho_rmin:.5g}, '\n",
    "                      f'try {bcs_tuple[2]:.5g}',\n",
    "                      end=\"                                               \")\n",
    "                if failed > 15:\n",
    "                    retry+=1\n",
    "                    if retry == 1:\n",
    "                        sim.load_uservars('saves/windsoln.csv')\n",
    "                        rewrite_guess(sim.windsoln,regrid=True)\n",
    "                        sim.load_planet('inputs/guess.inp')\n",
    "                        print(f'\\r..Regridding after failure {failed:d}',\n",
    "                              end=\"                                                   \")                         \n",
    "                        return 0\n",
    "                    elif retry>1:\n",
    "                        print(\"\\nStruggling to substep towards new rho_rmin\")\n",
    "                        return 1\n",
    "    print(f\"\\rSucessfully converged rho_rmin to {sim.windsoln.rho_rmin:e}\",\n",
    "          end=\"                                                       \")\n",
    "    return 0"
   ]
  },
  {
   "cell_type": "code",
   "execution_count": 81,
   "id": "929ba166",
   "metadata": {},
   "outputs": [
    {
     "name": "stdout",
     "output_type": "stream",
     "text": [
      "Number of points in relaxation region has changed from 1372 to 1145. Remaking C code...\n",
      "Atmosphere Composition\n",
      "  Species:   HI\n",
      "  Mass frac: 1.00e+00\n"
     ]
    }
   ],
   "source": [
    "sim.load_planet('saves/start_HD.csv')"
   ]
  },
  {
   "cell_type": "code",
   "execution_count": 7,
   "id": "46d21f42",
   "metadata": {},
   "outputs": [
    {
     "name": "stdout",
     "output_type": "stream",
     "text": [
      "..Attempt 5: rho_rmin 2.4225e+06, try 2.4225e+06                                                                           Number of points in relaxation region has changed from 1145 to 1381. Remaking C code...\n",
      "Atmosphere Composition\n",
      "  Species:   HI\n",
      "  Mass frac: 1.00e+00\n",
      "..Regridding after failure 5                                                   CPU times: user 21.9 s, sys: 52.3 s, total: 1min 14s\n",
      "Wall time: 7h 7min 22s\n"
     ]
    },
    {
     "data": {
      "text/plain": [
       "0"
      ]
     },
     "execution_count": 7,
     "metadata": {},
     "output_type": "execute_result"
    }
   ],
   "source": [
    "%%time\n",
    "ramp_rho_rmin(rho_Rp/1e-15)"
   ]
  },
  {
   "cell_type": "markdown",
   "id": "788bf0d2",
   "metadata": {},
   "source": [
    "### Cell size stuff"
   ]
  },
  {
   "cell_type": "code",
   "execution_count": 2,
   "id": "18ca760c",
   "metadata": {},
   "outputs": [],
   "source": [
    "sim2 = wind_sim()\n",
    "# sim.load_planet('saves/HD209458b_10-8000eV_H_full.csv')\n",
    "sim2.load_uservars('saves/temp.csv')\n",
    "var = sim2.windsoln\n",
    "r = var.soln_norm['r']"
   ]
  },
  {
   "cell_type": "code",
   "execution_count": 2,
   "id": "b4dc08e9",
   "metadata": {},
   "outputs": [
    {
     "name": "stdout",
     "output_type": "stream",
     "text": [
      "500\n"
     ]
    },
    {
     "data": {
      "image/png": "[encoded data removed]",
      "text/plain": [
       "<Figure size 432x288 with 1 Axes>"
      ]
     },
     "metadata": {
      "image/png": {
       "height": 267,
       "width": 397
      },
      "needs_background": "light"
     },
     "output_type": "display_data"
    }
   ],
   "source": [
    "delta_r = np.diff(r,prepend=var.Rmin)\n",
    "g = const.G*var.Mp/(var.soln['r']**2)\n",
    "H_sc = const.kB*var.soln['T']/(var.soln['mu']*g)\n",
    "\n",
    "plt.scatter(r,delta_r/(H_sc/var.Rp),s=4)\n",
    "# plt.plot(r,f(r),c='tab:orange')\n",
    "plt.ylabel(r'$\\Delta r / H_{sc}$')\n",
    "plt.xlabel(r'$r$ (Rp)')\n",
    "plt.xlim(1.12,var.R_sp)\n",
    "\n",
    "print(len(r[r<1.13]))"
   ]
  },
  {
   "cell_type": "code",
   "execution_count": 7,
   "id": "90b742b5",
   "metadata": {},
   "outputs": [
    {
     "data": {
      "text/plain": [
       "[<matplotlib.lines.Line2D at 0x7f7ac13fc2b0>]"
      ]
     },
     "execution_count": 7,
     "metadata": {},
     "output_type": "execute_result"
    },
    {
     "data": {
      "image/png": "[encoded data removed]",
      "text/plain": [
       "<Figure size 432x288 with 1 Axes>"
      ]
     },
     "metadata": {
      "image/png": {
       "height": 248,
       "width": 371
      },
      "needs_background": "light"
     },
     "output_type": "display_data"
    }
   ],
   "source": [
    "#want delta_r, s.t. delta_r/H_sc = 0.01\n",
    "from scipy.interpolate import CubicSpline\n",
    "f_hsc = CubicSpline(r[r<(var.R_sp)],H_sc[r<(var.R_sp)]/var.Rp)\n",
    "plt.plot(r,f_hsc(r))"
   ]
  },
  {
   "cell_type": "code",
   "execution_count": 28,
   "id": "bb7d6a2f",
   "metadata": {},
   "outputs": [],
   "source": [
    "import math"
   ]
  },
  {
   "cell_type": "code",
   "execution_count": 51,
   "id": "481908bd",
   "metadata": {},
   "outputs": [
    {
     "name": "stdout",
     "output_type": "stream",
     "text": [
      "1519\n"
     ]
    },
    {
     "data": {
      "text/plain": [
       "<matplotlib.collections.PathCollection at 0x7f7b02362790>"
      ]
     },
     "execution_count": 51,
     "metadata": {},
     "output_type": "execute_result"
    },
    {
     "data": {
      "image/png": "[encoded data removed]",
      "text/plain": [
       "<Figure size 432x288 with 1 Axes>"
      ]
     },
     "metadata": {
      "image/png": {
       "height": 248,
       "width": 386
      },
      "needs_background": "light"
     },
     "output_type": "display_data"
    }
   ],
   "source": [
    "#new regrid\n",
    "new_r = var.Rmin\n",
    "r_regrid = [new_r]\n",
    "r_steps = [1e-5]\n",
    "while new_r<var.R_sp:\n",
    "    r_step = f_hsc(new_r)*0.02\n",
    "    r_steps = np.append(r_steps,r_step)\n",
    "    closeness = (var.R_sp-new_r)\n",
    "    if closeness<1:\n",
    "        r_step*=math.erf(closeness)+1e-4\n",
    "    new_r += r_step\n",
    "    r_regrid = np.append(r_regrid,new_r)\n",
    "print(len(r_regrid))\n",
    "plt.scatter(r_regrid,np.diff(r_regrid,prepend=1.001)/r_regrid,s=4)"
   ]
  },
  {
   "cell_type": "code",
   "execution_count": 6,
   "id": "37555e00",
   "metadata": {},
   "outputs": [],
   "source": [
    "from scipy import interpolate\n",
    "from subprocess import Popen, PIPE, STDOUT\n",
    "import sys\n",
    "import math\n",
    "\n",
    "def rewrite_guess(var,regrid=False,degree=1):\n",
    "    for i,sp in enumerate(var.species_list):\n",
    "        var.species_list[i] = (sp).replace(' ','')\n",
    "    g = open(\"inputs/guess.inp\",\"w\")\n",
    "    #Header\n",
    "    var.nspecies = len(var.Ys_rmin)\n",
    "    g.write(\"#nspecies: %d\\n\" %var.nspecies)\n",
    "    Ncol_string = ''\n",
    "    Ys_string = ''\n",
    "    string = ''\n",
    "    floats = ''\n",
    "    for n in range(var.nspecies):\n",
    "        floats += '{:.17e},'\n",
    "        string += '{:s},'\n",
    "        Ncol_string += 'Ncol_'+var.species_list[n]+','\n",
    "        Ys_string   += 'Ys_'+var.species_list[n]+','\n",
    "    g.write(\"#vars: r,rho,v,T,\"+Ys_string+Ncol_string+\"q,z\\n\")\n",
    "    g.write('#scales: '+(','.join('%.17e' %i for i in var.scales))+ '\\n')\n",
    "    g.write('#plnt_prms: '+(','.join('%.17e' %i for i in (var.planet_tuple)))+ '\\n')\n",
    "    g.write('#phys_prms: '+(floats+string+floats).format(*var.HX,*var.species_list,*var.atomic_masses)[:-1]+'\\n')\n",
    "    g.write('#bcs: '+(','.join('{:.17e}' for i in range(4+2*var.nspecies))).format(*var.bcs_tuple[:4],\n",
    "                                                                                    *var.Ys_rmin,*var.Ncol_sp)+'\\n')\n",
    "    g.write('#tech: '+(','.join('%.17e' %i for i in var.tech_tuple))+ '\\n')\n",
    "    g.write('#flags: '+(','.join('%d' %i for i in var.flags_tuple))+ '\\n')\n",
    "    g.write('#spec_prms: {:d},{:d},'.format(var.npts,var.nspecies)+var.spec_date+','+var.spec_kind+\n",
    "            ',{:.17e},{:.17e},{:.17e},{:.17e},{:.17e},{:.17e},'.format(*var.spec_window,*var.spec_resolved, \n",
    "                                                                       *var.spec_normalized))\n",
    "    g.write(floats[:-1].format(*var.ion_pot)+'\\n')   \n",
    "    #Spectrum\n",
    "    #just adds new species at this stage. In other functions, can expand or change range,norm,etc.\n",
    "    g.write(\"# $hc/\\lambda_i$, $w_i\\Phi_{\\lambda_i}/F_{uv}$,\"+\n",
    "            (','.join(\"$\\sigma_{\\lambda_i,{\"+sp+\"}}$\" for sp in var.species_list))+\"\\n\")\n",
    "    for n in range(len(var.E_wl)):\n",
    "        g.write(('## {:.17e},{:.17e},'+floats[:-1]+'\\n').format(var.E_wl[n],var.wPhi_wl[n],*var.sigma_wl[n]))\n",
    "    #Guess Solution\n",
    "    if regrid == False:\n",
    "        for k in range(len(self.soln_norm)):\n",
    "            g.write(','.join('%.17e' %i for i in self.soln_norm.iloc[k,:]))\n",
    "            g.write('\\n')\n",
    "        g.close()\n",
    "    \n",
    "    r_og = var.soln_norm['r']\n",
    "    q = var.soln['q']\n",
    "    og_length = len(q[q<=1])\n",
    "    percent_scaleheight = 0.02 \n",
    "    if regrid == True:\n",
    "        try_again = True\n",
    "        while try_again == True:\n",
    "            #Creating a new grid that is 2% of the scale height everywhere except as it approaches the sonic point\n",
    "            little_g = const.G*var.Mp/(var.soln['r']**2)\n",
    "            H_sc = const.kB*var.soln['T']/(var.soln['mu']*little_g)\n",
    "            f_hsc = interpolate.CubicSpline(r_og[q<=1],H_sc[q<=1]/var.Rp)\n",
    "            new_r = var.Rmin\n",
    "            r_regrid = [new_r]\n",
    "            r_steps = [1e-5]\n",
    "            while new_r<var.R_sp:\n",
    "                r_step = f_hsc(new_r)*percent_scaleheight\n",
    "                r_steps = np.append(r_steps,r_step)\n",
    "                closeness = (var.R_sp-new_r) #if r close to Rsp, switch to an erf that decreases stepsize\n",
    "                if closeness<1:\n",
    "                    r_step*=math.erf(closeness)+1e-4\n",
    "                new_r += r_step\n",
    "                r_regrid = np.append(r_regrid,new_r)  \n",
    "            new_length = len(r_regrid) #the number of points inside the relaxation code\n",
    "            if new_length < 1900: #randomly chosen length\n",
    "                try_again = False\n",
    "                r_regrid = np.append(r_regrid,r_og[q>1])\n",
    "            else:\n",
    "                percent_scaleheight += 0.01 #can increase stepsize or smaller closeness\n",
    "            \n",
    "\n",
    "        rho_spline = interpolate.InterpolatedUnivariateSpline(var.soln_norm['r'], var.soln_norm['rho'], ext=2, k=degree)\n",
    "        v_spline = interpolate.InterpolatedUnivariateSpline(var.soln_norm['r'], var.soln_norm['v'], ext=2, k=degree)\n",
    "        T_spline = interpolate.InterpolatedUnivariateSpline(var.soln_norm['r'], var.soln_norm['T'], ext=2, k=degree)\n",
    "        z_spline = interpolate.InterpolatedUnivariateSpline(var.soln_norm['r'], var.soln_norm['z'], ext=2, k=degree)\n",
    "        z = var.soln_norm['z'][0]\n",
    "        new_q = (r_regrid - var.Rmin)/z\n",
    "        new_q[new_length-1] = 1\n",
    "\n",
    "        def Ys_spline(r,degree=1):\n",
    "            Ys_normed_fit = np.zeros((len(r),var.nspecies))\n",
    "            for j in range(var.nspecies):\n",
    "                Ys_name = 'Ys_'+var.species_list[j]\n",
    "                s = interpolate.InterpolatedUnivariateSpline(\n",
    "                    var.soln_norm['r'], var.soln_norm[Ys_name], ext=2, k=degree)\n",
    "                Ys_normed_fit[:,j] = s(r)\n",
    "            return Ys_normed_fit\n",
    "\n",
    "        def Ncol_spline(r,degree=1):\n",
    "            Ncol_normed_fit = np.zeros((len(r),var.nspecies))\n",
    "            for j in range(var.nspecies):\n",
    "                Ncol_name = 'Ncol_'+var.species_list[j]\n",
    "                s = interpolate.InterpolatedUnivariateSpline(\n",
    "                    var.soln_norm['r'], var.soln_norm[Ncol_name], ext=2, k=degree)\n",
    "                Ncol_normed_fit[:,j] = s(r)\n",
    "            return Ncol_normed_fit\n",
    "\n",
    "        df = pd.DataFrame(np.column_stack((\n",
    "            #strictly enforce r[0] == Rmin\n",
    "            np.array(r_regrid),\n",
    "            rho_spline(r_regrid),\n",
    "            v_spline(r_regrid),\n",
    "            T_spline(r_regrid),\n",
    "            Ys_spline(r_regrid),\n",
    "            Ncol_spline(r_regrid),\n",
    "            new_q,\n",
    "            z_spline(r_regrid)\n",
    "        )), columns=var.soln_norm.columns[:(6+2*var.nspecies)])\n",
    "        \n",
    "        df.to_csv(g, header=False, index=False, float_format='%.17e')\n",
    "        g.close()\n",
    "        \n",
    "        if og_length != new_length:\n",
    "            print(\"Number of points in relaxation region has changed from %d to %d. Remaking C code...\" \n",
    "                  %(og_length, new_length))\n",
    "            f = open('src/defs.h','w')\n",
    "            h = (open('src/defs-master.h','r')).readlines()\n",
    "            for idx,hline in enumerate(h):\n",
    "                if hline[0:10] == '#define M ':\n",
    "                    index = idx\n",
    "            h[index] = '#define M %d            /* number of points */\\n' %new_length\n",
    "            f.writelines(h)\n",
    "            f.close()    \n",
    "            sub = Popen('make', stdout=PIPE, stderr=PIPE) \n",
    "            output, error_output = sub.communicate()\n",
    "        \n",
    "    return"
   ]
  },
  {
   "cell_type": "code",
   "execution_count": 7,
   "id": "e8418088",
   "metadata": {},
   "outputs": [
    {
     "name": "stdout",
     "output_type": "stream",
     "text": [
      "Number of points in relaxation region has changed from 1501 to 1519. Remaking C code...\n"
     ]
    }
   ],
   "source": [
    "sim.load_uservars('saves/windsoln.csv')\n",
    "var = sim.windsoln\n",
    "rewrite_guess(var,regrid=True) "
   ]
  },
  {
   "cell_type": "code",
   "execution_count": 62,
   "id": "176d6743",
   "metadata": {},
   "outputs": [
    {
     "data": {
      "text/plain": [
       "[<matplotlib.lines.Line2D at 0x7fe0180f2df0>]"
      ]
     },
     "execution_count": 62,
     "metadata": {},
     "output_type": "execute_result"
    },
    {
     "data": {
      "image/png": "[encoded data removed]",
      "text/plain": [
       "<Figure size 432x288 with 1 Axes>"
      ]
     },
     "metadata": {
      "image/png": {
       "height": 252,
       "width": 386
      },
      "needs_background": "light"
     },
     "output_type": "display_data"
    }
   ],
   "source": [
    "sim.load_uservars('inputs/test_guess.inp')\n",
    "revar = sim.windsoln\n",
    "rr = revar.soln_norm['r']\n",
    "plt.plot(rr,np.diff(rr,prepend=1.001))"
   ]
  },
  {
   "cell_type": "code",
   "execution_count": 13,
   "id": "459154bf",
   "metadata": {},
   "outputs": [
    {
     "name": "stdout",
     "output_type": "stream",
     "text": [
      "1.0114749639960487\n",
      "0.9994564261166237\n"
     ]
    },
    {
     "data": {
      "image/png": "[encoded data removed]",
      "text/plain": [
       "<Figure size 432x288 with 1 Axes>"
      ]
     },
     "metadata": {
      "image/png": {
       "height": 248,
       "width": 371
      },
      "needs_background": "light"
     },
     "output_type": "display_data"
    }
   ],
   "source": [
    "plt.plot(rr,revar.soln['q'])\n",
    "plt.plot(r,var.soln['q'])\n",
    "print(np.array(revar.soln['q'])[1510])\n",
    "print(np.array(revar.soln['q'])[1501])\n",
    "# print(revar.soln['q'])"
   ]
  },
  {
   "cell_type": "code",
   "execution_count": null,
   "id": "e3c8a003",
   "metadata": {},
   "outputs": [],
   "source": []
  },
  {
   "cell_type": "code",
   "execution_count": 5,
   "id": "885f30a8",
   "metadata": {},
   "outputs": [
    {
     "name": "stdout",
     "output_type": "stream",
     "text": [
      "[0.         0.00025728 0.00025728 ... 0.0032803  0.0032803  0.0032803 ]\n"
     ]
    },
    {
     "data": {
      "image/png": "[encoded data removed]",
      "text/plain": [
       "<Figure size 432x288 with 1 Axes>"
      ]
     },
     "metadata": {
      "image/png": {
       "height": 248,
       "width": 386
      },
      "needs_background": "light"
     },
     "output_type": "display_data"
    }
   ],
   "source": [
    "plt.scatter(r,delta_r,s=5)\n",
    "plt.xlim(1,var.R_sp)\n",
    "print(delta_r)"
   ]
  },
  {
   "cell_type": "code",
   "execution_count": 1,
   "id": "9e3d2c32",
   "metadata": {},
   "outputs": [],
   "source": [
    "sim2 = wind_sim()\n",
    "# sim.load_planet('saves/HD209458b_10-8000eV_H_full.csv')\n",
    "sim2.load_uservars('saves/temp.csv')\n",
    "var = sim2.windsoln\n",
    "r = var.soln_norm['r']"
   ]
  },
  {
   "cell_type": "code",
   "execution_count": 4,
   "id": "69de6f01",
   "metadata": {},
   "outputs": [],
   "source": [
    "new_grid = var.regrid()"
   ]
  },
  {
   "cell_type": "code",
   "execution_count": 9,
   "id": "5c6f4791",
   "metadata": {},
   "outputs": [
    {
     "name": "stdout",
     "output_type": "stream",
     "text": [
      "500\n"
     ]
    },
    {
     "data": {
      "text/plain": [
       "0       1.001381\n",
       "1       1.001638\n",
       "2       1.001895\n",
       "3       1.002152\n",
       "4       1.002410\n",
       "          ...   \n",
       "1501    3.573141\n",
       "1502    3.573398\n",
       "1503    3.573655\n",
       "1504    3.573913\n",
       "1505    3.574170\n",
       "Name: r, Length: 1506, dtype: float64"
      ]
     },
     "execution_count": 9,
     "metadata": {},
     "output_type": "execute_result"
    },
    {
     "data": {
      "image/png": "[encoded data removed]",
      "text/plain": [
       "<Figure size 432x288 with 1 Axes>"
      ]
     },
     "metadata": {
      "image/png": {
       "height": 267,
       "width": 410
      },
      "needs_background": "light"
     },
     "output_type": "display_data"
    }
   ],
   "source": [
    "delta_r = np.diff(new_grid['r'],prepend=var.Rmin)\n",
    "g = const.G*var.Mp/(((new_grid['r'])*var.Rp)**2)\n",
    "H_sc = const.kB*var.soln['T']/(var.soln['mu']*g)\n",
    "\n",
    "plt.scatter(new_grid['r'],delta_r/(f_hsc(new_grid['r'])),s=4)\n",
    "# plt.plot(r,f(r),c='tab:orange')\n",
    "plt.ylabel(r'$\\Delta r / H_{sc}$')\n",
    "plt.xlabel(r'$r$ (Rp)')\n",
    "plt.xlim(1.0,1.1)\n",
    "\n",
    "print(len(r[r<1.13]))\n",
    "new_grid['r']"
   ]
  }
 ],
 "metadata": {
  "kernelspec": {
   "display_name": "Python 3 (ipykernel)",
   "language": "python",
   "name": "python3"
  },
  "language_info": {
   "codemirror_mode": {
    "name": "ipython",
    "version": 3
   },
   "file_extension": ".py",
   "mimetype": "text/x-python",
   "name": "python",
   "nbconvert_exporter": "python",
   "pygments_lexer": "ipython3",
   "version": "3.9.12"
  }
 },
 "nbformat": 4,
 "nbformat_minor": 5
}
