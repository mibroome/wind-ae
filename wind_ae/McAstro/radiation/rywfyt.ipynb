{
 "cells": [
  {
   "cell_type": "code",
   "execution_count": null,
   "metadata": {},
   "outputs": [],
   "source": [
    "import math\n",
    "import numpy as np\n",
    "from image_plane import orbital_elements, image_plane"
   ]
  },
  {
   "cell_type": "code",
   "execution_count": null,
   "metadata": {},
   "outputs": [],
   "source": [
    "adist = 1e12 #semi-major axis\n",
    "eccen = 0.0 #eccentricity\n",
    "dist  = 1.4534e20 #distance to primary\n",
    "LoAN  = 3./2.*math.pi #longitude of ascending node\n",
    "AoP   = math.pi/2. #arguement of periapsis\n",
    "Inc   = 0.0*math.pi/180. #inclincation\n",
    "TA    = 0.0*math.pi/180. #true anomaly \n",
    "McCann19 = orbital_elements(adist, eccen, Inc, LoAN, AoP, TA, dist)\n",
    "\n",
    "ilow  = -20\n",
    "ihigh = 20\n",
    "jlow  = -20\n",
    "jhigh = 20\n",
    "dx = 2.78e9/4\n",
    "dy = 2.78e9/4\n",
    "IP = image_plane(dx, dy, ilow, ihigh, jlow, jhigh, rank=0, size=160)\n",
    "\n",
    "x_mn = [-6.95e+10, -6.95e+10, -6.95e+10]\n",
    "x_mx = [6.95e+10, 6.95e+10, 6.95e+10]\n",
    "IP.calc_rays(McCann19, x_mn, x_mx)\n",
    "\n",
    "IP.n_x1, IP.n_x2, IP.x1_min, IP.x1_max"
   ]
  },
  {
   "cell_type": "code",
   "execution_count": null,
   "metadata": {},
   "outputs": [],
   "source": [
    "def decomposition(ngrids):\n",
    "    for i in range(int(np.sqrt(ngrids)), 0, -1):\n",
    "        if ngrids % i == 0:\n",
    "            return i, int(ngrids/i)"
   ]
  },
  {
   "cell_type": "code",
   "execution_count": null,
   "metadata": {},
   "outputs": [],
   "source": [
    "decomposition(n_cpus)"
   ]
  },
  {
   "cell_type": "code",
   "execution_count": null,
   "metadata": {},
   "outputs": [],
   "source": [
    "n_spatial_decomps = 1\n",
    "n_frequency_decomps = 1\n",
    "n_phase_decomps = 1"
   ]
  },
  {
   "cell_type": "code",
   "execution_count": null,
   "metadata": {},
   "outputs": [],
   "source": [
    "n_cpus = 2*40\n",
    "n_nu = 10\n",
    "n_ph = 5\n",
    "n_x1 = 5\n",
    "n_x2 = 5\n",
    "n_tot = n_nu*n_ph*n_x1*n_x2"
   ]
  },
  {
   "cell_type": "code",
   "execution_count": null,
   "metadata": {},
   "outputs": [],
   "source": [
    "for rank in range(n_cpus):\n",
    "    r_task = n_tot%n_cpus\n",
    "    n_task = (n_tot-r_task)//n_cpus\n",
    "    if rank < r_task:\n",
    "        n_task += 1\n",
    "        i_min = rank*n_task\n",
    "        i_max = i_min+n_task\n",
    "    else:\n",
    "        i_min = r_task+rank*n_task\n",
    "        i_max = i_min+n_task\n",
    "    for i in range(i_min, i_max):\n",
    "        i_nu = i%n_nu\n",
    "        i_ph = ((i-i_nu)//n_nu)%n_ph\n",
    "        i_x1 = ((i-i_nu-i_ph)//(n_nu*n_ph))%n_x1\n",
    "        i_x2 = ((i-i_nu-i_ph-i_x1)//(n_nu*n_ph*n_x1))%n_x2\n",
    "#         print(i, i_nu, i_ph, i_x1, i_x2)\n",
    "    "
   ]
  },
  {
   "cell_type": "code",
   "execution_count": null,
   "metadata": {},
   "outputs": [],
   "source": [
    "n_rt = n_nu*n_ph*n_px\n",
    "r = n_rt%ncpus\n",
    "b = (n_rt-r)//ncpus\n",
    "\n",
    "n_rays = len(rays)\n",
    "n_oes = len(oes)\n",
    "n_spec = len(specs)\n",
    "for k, ray in enumerate(rays):\n",
    "    for j, oe in enumerate(oes):\n",
    "        for i, nu in enumerate(specs):\n",
    "            index = i+n_spec*(j+n_oes*k)\n",
    "            "
   ]
  },
  {
   "cell_type": "code",
   "execution_count": null,
   "metadata": {},
   "outputs": [],
   "source": [
    "n_ip = n_nu*n_ph\n",
    "r_ip = n_ip%n_cpus\n",
    "w_ip = (n_ip-remain)//n_cpus"
   ]
  },
  {
   "cell_type": "code",
   "execution_count": null,
   "metadata": {},
   "outputs": [],
   "source": [
    "n_rt = r_ip*n_px\n",
    "r_rt = n_rt%n_cpus\n",
    "w_rt = (n_rt-r_rt)//n_cpus\n",
    "r_rt, r_ip"
   ]
  }
 ],
 "metadata": {
  "kernelspec": {
   "display_name": "Python 3",
   "language": "python",
   "name": "python3"
  },
  "language_info": {
   "codemirror_mode": {
    "name": "ipython",
    "version": 3
   },
   "file_extension": ".py",
   "mimetype": "text/x-python",
   "name": "python",
   "nbconvert_exporter": "python",
   "pygments_lexer": "ipython3",
   "version": "3.7.7"
  }
 },
 "nbformat": 4,
 "nbformat_minor": 4
}
